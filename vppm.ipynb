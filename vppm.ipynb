{
  "cells": [
    {
      "cell_type": "markdown",
      "metadata": {
        "id": "ozFE_G7qh0mb"
      },
      "source": [
        "# **Trabalho de Estatistica e Probabilidade sobre Corridas de Taxis da cidade de Nova Iorque do mês de janeiro de 2012.**\n",
        "\n",
        "**Dupla: Victor Melo e Pedro Tojal**\n",
        "\n",
        "--> [Dataset](https://d37ci6vzurychx.cloudfront.net/trip-data/yellow_tripdata_2012-01.parquet)"
      ]
    },
    {
      "cell_type": "markdown",
      "metadata": {
        "id": "9xV9tBIUh0md"
      },
      "source": [
        "As corridas de táxi em Nova Iorque são uma parte icônica da cidade. Os famosos táxis amarelos, regulamentados pela Comissão de Táxi e Limusine de Nova Iorque (TLC), oferecem um meio de transporte conveniente e reconhecível em toda a cidade. As tarifas são calculadas com base na distância e no tempo, com taxas adicionais para pedágios e bagagens. Apesar da crescente concorrência, os táxis amarelos permanecem um símbolo cultural e uma opção de locomoção apreciada por moradores e visitantes.\n",
        "\n"
      ]
    },
    {
      "cell_type": "markdown",
      "source": [
        "**Dados do Dataset:**\n",
        "\n",
        "* **VendorID** - Um código que indica o provedor TPEP que forneceu o registro.\n",
        "    * 1 = Tecnologias Móveis Criativas, LLC\n",
        "    * 2 = VeriFone Inc.\n",
        "\n",
        "* **tpep_pickup_datetime** - A data e hora em que o medidor foi ativado.\n",
        "\n",
        "* **tpep_dropoff_datetime** - A data e hora em que o medidor foi desativado.\n",
        "\n",
        "* **Passenger_count** - O número de passageiros no veículo. Este é um valor inserido pelo driver.\n",
        "\n",
        "* **Trip_distance** - A distância decorrida da viagem em milhas informada pelo taxímetro.\n",
        "\n",
        "* **PULocationID** - Zona de Táxis TLC em que o taxímetro estava acionado.\n",
        "\n",
        "* **DOLocationID** - Zona de táxi TLC em que o taxímetro foi desativado.\n",
        "\n",
        "* **RateCodeID** - O código de tarifa final em vigor no final da viagem.\n",
        "    * 1 = Taxa padrão\n",
        "    * 2 = JFK\n",
        "    * 3 = Newark\n",
        "    * 4 = Nassau ou Westchester\n",
        "    * 5 = Tarifa negociada\n",
        "    * 6 = Passeio em grupo\n",
        "\n",
        "* **Store_and_fwd_flag** - Este sinalizador indica se o registro da viagem foi mantido na memória antes de enviar ao fornecedor, também conhecido como“armazenar e encaminhar”, porque o veículo não tinha conexão com o servidor.\n",
        "    * Y = viagem de armazenamento e encaminhamento\n",
        "    * N = não é uma viagem de armazenamento e ida\n",
        "\n",
        "* **Payment_type** - Um código numérico que significa como o passageiro pagou pela viagem.\n",
        "    * 1 = Cartão de crédito\n",
        "    * 2 = Dinheiro\n",
        "    * 3 = Sem custo\n",
        "    * 4 = Disputa\n",
        "    * 5 = Desconhecido\n",
        "    * 6 = Viagem anulada\n",
        "\n",
        "* **Fare_amount** - A tarifa de tempo e distância calculada pelo taxímetro.\n",
        "\n",
        "* **Extra** - Extras e sobretaxas diversos. Atualmente, isso inclui apenas\n",
        "os US$ 0,50 e US$ 1 na hora do rush e nas tarifas noturnas.\n",
        "\n",
        "* **MTA_tax** - Imposto MTA de US$ 0,50 que é acionado automaticamente com base na medição taxa em uso.\n",
        "\n",
        "* **Improvement_surcharge** - Sobretaxa de melhoria de US$ 0,30 avaliada em viagens na retirada da bandeira. O a sobretaxa de melhoria começou a ser cobrada em 2015.\n",
        "\n",
        "* **Tip_amount** - Este campo é preenchido automaticamente para cartão de crédito\n",
        "pontas. Gorjetas em dinheiro não estão incluídas.\n",
        "\n",
        "* **Tolls_amount** - Valor total de todos os pedágios pagos na viagem.\n",
        "\n",
        "* **Total_amount** - O valor total cobrado dos passageiros. Não inclui gorjetas em dinheiro.\n",
        "\n",
        "* **Congestion_Surcharge** - Valor total arrecadado em viagem para sobretaxa de congestionamento do NYS.\n",
        "\n",
        "* **Airport_fee** - US$ 1,25 para retirada somente nos aeroportos LaGuardia e John F. Kennedy.\n",
        "\n",
        "  --> [Descrição dados do Dataset](https://www.nyc.gov/assets/tlc/downloads/pdf/data_dictionary_trip_records_yellow.pdf)"
      ],
      "metadata": {
        "id": "looJVt0tVW3p"
      }
    },
    {
      "cell_type": "markdown",
      "source": [
        "**Obs. Importante:** Com a utilização desse dataset das corridas de táxi de Nova Iorque, ocorreu um problema no qual o dataset por inteiro fazia com que o colab entrasse em falha com a grande quantidade de consumo de memória. Com isso, fizemos um programa em python para reduzir o tamanho do dataset de 13 milhões de linhas para 5 milhões de linhas, além do código para transformar o dataset de .parquet para .csv.\n",
        "\n",
        "O dataset em questão é o enviado por email: [Dataset](https://d37ci6vzurychx.cloudfront.net/trip-data/yellow_tripdata_2012-01.parquet). Com isso ele foi passado de .parquet para .csv, além de ter sido reduzido.\n"
      ],
      "metadata": {
        "id": "swWPp7gIcanx"
      }
    },
    {
      "cell_type": "markdown",
      "source": [
        "**Código para transformar o arquivo de .parquet para .csv:**\n",
        "\n",
        "    import pandas as pd\n",
        "\n",
        "    filename = 'yellow_tripdata_2012-01.parquet'\n",
        "    df = pd.read_parquet(filename)\n",
        "\n",
        "    new_filename = 'yellow_tripdata_2012-01.csv'\n",
        "    df.to_csv(new_filename)"
      ],
      "metadata": {
        "id": "XK1K5yKWkqJU"
      }
    },
    {
      "cell_type": "markdown",
      "source": [
        "**Código para reduzir o tamanho do Dataset:**\n",
        "\n",
        "    import pandas as pd\n",
        "\n",
        "    filename = 'yellow_tripdata_2012-01.csv'\n",
        "    df = pd.read_csv(filename)\n",
        "\n",
        "    df = df[:5000000] # definir tamanho desejado\n",
        "\n",
        "    new_filename = 'dataset.csv'\n",
        "\n",
        "    df.to_csv(new_filename)\n",
        "\n",
        "Quando for utilizar ambos os códigos, basta abrir uma pasta no VsCode, colocar o dataset completo dentro da pasta, e colar os códigos em arquivos .py dentro da pasta. Com isso, irá gerar o arquivo reduzido e a transformação de .parquet para .csv."
      ],
      "metadata": {
        "id": "zRCIrfZmfYt7"
      }
    },
    {
      "cell_type": "code",
      "execution_count": null,
      "metadata": {
        "id": "xCgGAH4gh0md"
      },
      "outputs": [],
      "source": [
        "import pandas as pd\n",
        "import numpy as np"
      ]
    },
    {
      "cell_type": "code",
      "source": [
        "from google.colab import drive"
      ],
      "metadata": {
        "id": "zqnq6wxF7oBa"
      },
      "execution_count": null,
      "outputs": []
    },
    {
      "cell_type": "code",
      "source": [
        "from google.colab import drive\n",
        "drive.mount('/content/drive')"
      ],
      "metadata": {
        "colab": {
          "base_uri": "https://localhost:8080/"
        },
        "id": "oigRV3DK_sFZ",
        "outputId": "38fc1dcd-b089-44e8-c3c4-a04b87e162c6"
      },
      "execution_count": null,
      "outputs": [
        {
          "output_type": "stream",
          "name": "stdout",
          "text": [
            "Mounted at /content/drive\n"
          ]
        }
      ]
    },
    {
      "cell_type": "code",
      "execution_count": null,
      "metadata": {
        "id": "n9YDJtqUh0me"
      },
      "outputs": [],
      "source": [
        "filename = '/content/drive/MyDrive/dataset.csv'\n",
        "trip_data_january = pd.read_csv(filename)"
      ]
    },
    {
      "cell_type": "code",
      "execution_count": null,
      "metadata": {
        "colab": {
          "base_uri": "https://localhost:8080/",
          "height": 461
        },
        "id": "LaScHIAKh0me",
        "outputId": "317cf3fd-2b19-4853-dad7-cfcd15feddc0"
      },
      "outputs": [
        {
          "output_type": "execute_result",
          "data": {
            "text/plain": [
              "         Unnamed: 0.1  Unnamed: 0  VendorID tpep_pickup_datetime  \\\n",
              "0                   0           0         1  2012-01-01 00:07:56   \n",
              "1                   1           1         1  2012-01-01 00:18:49   \n",
              "2                   2           2         1  2012-01-01 00:31:38   \n",
              "3                   3           3         1  2012-01-01 00:47:35   \n",
              "4                   4           4         1  2012-01-01 00:57:08   \n",
              "...               ...         ...       ...                  ...   \n",
              "4999995       4999995     4999995         1  2012-01-13 16:50:11   \n",
              "4999996       4999996     4999996         1  2012-01-13 16:56:43   \n",
              "4999997       4999997     4999997         2  2012-01-13 16:03:00   \n",
              "4999998       4999998     4999998         2  2012-01-13 16:29:00   \n",
              "4999999       4999999     4999999         1  2012-01-13 16:12:48   \n",
              "\n",
              "        tpep_dropoff_datetime  passenger_count  trip_distance  RatecodeID  \\\n",
              "0         2012-01-01 00:12:09                1           0.90           1   \n",
              "1         2012-01-01 00:30:01                1           2.30           1   \n",
              "2         2012-01-01 00:46:05                1           2.20           1   \n",
              "3         2012-01-01 00:55:57                4           0.90           1   \n",
              "4         2012-01-01 01:02:42                3           0.70           1   \n",
              "...                       ...              ...            ...         ...   \n",
              "4999995   2012-01-13 16:55:29                1           0.80           1   \n",
              "4999996   2012-01-13 17:05:24                1           1.30           1   \n",
              "4999997   2012-01-13 16:19:00                4           2.83           1   \n",
              "4999998   2012-01-13 16:51:00                5           7.59           1   \n",
              "4999999   2012-01-13 16:33:14                1           5.20           1   \n",
              "\n",
              "        store_and_fwd_flag  PULocationID  ...  payment_type  fare_amount  \\\n",
              "0                        N           158  ...             2          4.9   \n",
              "1                        N           231  ...             2          8.5   \n",
              "2                        N           164  ...             2          9.3   \n",
              "3                        N           148  ...             2          5.3   \n",
              "4                        N           107  ...             2          4.5   \n",
              "...                    ...           ...  ...           ...          ...   \n",
              "4999995                  N           234  ...             2          4.9   \n",
              "4999996                  N           113  ...             1          6.5   \n",
              "4999997                NaN           113  ...             1         10.9   \n",
              "4999998                NaN           231  ...             1         20.1   \n",
              "4999999                  N           231  ...             1         15.3   \n",
              "\n",
              "         extra  mta_tax  tip_amount  tolls_amount  improvement_surcharge  \\\n",
              "0          0.5      0.5        0.00           0.0                    0.0   \n",
              "1          0.5      0.5        0.00           0.0                    0.0   \n",
              "2          0.5      0.5        0.00           0.0                    0.0   \n",
              "3          0.5      0.5        0.00           0.0                    0.0   \n",
              "4          0.5      0.5        0.00           0.0                    0.0   \n",
              "...        ...      ...         ...           ...                    ...   \n",
              "4999995    1.0      0.5        0.00           0.0                    0.0   \n",
              "4999996    1.0      0.5        1.60           0.0                    0.0   \n",
              "4999997    1.0      0.5        2.00           0.0                    0.0   \n",
              "4999998    1.0      0.5        4.22           0.0                    0.0   \n",
              "4999999    1.0      0.5        3.35           0.0                    0.0   \n",
              "\n",
              "         total_amount  congestion_surcharge  airport_fee  \n",
              "0                5.90                   NaN          NaN  \n",
              "1                9.50                   NaN          NaN  \n",
              "2               10.30                   NaN          NaN  \n",
              "3                6.30                   NaN          NaN  \n",
              "4                5.50                   NaN          NaN  \n",
              "...               ...                   ...          ...  \n",
              "4999995          6.40                   NaN          NaN  \n",
              "4999996          9.60                   NaN          NaN  \n",
              "4999997         14.40                   NaN          NaN  \n",
              "4999998         25.82                   NaN          NaN  \n",
              "4999999         20.15                   NaN          NaN  \n",
              "\n",
              "[5000000 rows x 21 columns]"
            ],
            "text/html": [
              "\n",
              "  <div id=\"df-1d11798b-95f2-4c8e-aa2f-4e0edbdbbc4c\" class=\"colab-df-container\">\n",
              "    <div>\n",
              "<style scoped>\n",
              "    .dataframe tbody tr th:only-of-type {\n",
              "        vertical-align: middle;\n",
              "    }\n",
              "\n",
              "    .dataframe tbody tr th {\n",
              "        vertical-align: top;\n",
              "    }\n",
              "\n",
              "    .dataframe thead th {\n",
              "        text-align: right;\n",
              "    }\n",
              "</style>\n",
              "<table border=\"1\" class=\"dataframe\">\n",
              "  <thead>\n",
              "    <tr style=\"text-align: right;\">\n",
              "      <th></th>\n",
              "      <th>Unnamed: 0.1</th>\n",
              "      <th>Unnamed: 0</th>\n",
              "      <th>VendorID</th>\n",
              "      <th>tpep_pickup_datetime</th>\n",
              "      <th>tpep_dropoff_datetime</th>\n",
              "      <th>passenger_count</th>\n",
              "      <th>trip_distance</th>\n",
              "      <th>RatecodeID</th>\n",
              "      <th>store_and_fwd_flag</th>\n",
              "      <th>PULocationID</th>\n",
              "      <th>...</th>\n",
              "      <th>payment_type</th>\n",
              "      <th>fare_amount</th>\n",
              "      <th>extra</th>\n",
              "      <th>mta_tax</th>\n",
              "      <th>tip_amount</th>\n",
              "      <th>tolls_amount</th>\n",
              "      <th>improvement_surcharge</th>\n",
              "      <th>total_amount</th>\n",
              "      <th>congestion_surcharge</th>\n",
              "      <th>airport_fee</th>\n",
              "    </tr>\n",
              "  </thead>\n",
              "  <tbody>\n",
              "    <tr>\n",
              "      <th>0</th>\n",
              "      <td>0</td>\n",
              "      <td>0</td>\n",
              "      <td>1</td>\n",
              "      <td>2012-01-01 00:07:56</td>\n",
              "      <td>2012-01-01 00:12:09</td>\n",
              "      <td>1</td>\n",
              "      <td>0.90</td>\n",
              "      <td>1</td>\n",
              "      <td>N</td>\n",
              "      <td>158</td>\n",
              "      <td>...</td>\n",
              "      <td>2</td>\n",
              "      <td>4.9</td>\n",
              "      <td>0.5</td>\n",
              "      <td>0.5</td>\n",
              "      <td>0.00</td>\n",
              "      <td>0.0</td>\n",
              "      <td>0.0</td>\n",
              "      <td>5.90</td>\n",
              "      <td>NaN</td>\n",
              "      <td>NaN</td>\n",
              "    </tr>\n",
              "    <tr>\n",
              "      <th>1</th>\n",
              "      <td>1</td>\n",
              "      <td>1</td>\n",
              "      <td>1</td>\n",
              "      <td>2012-01-01 00:18:49</td>\n",
              "      <td>2012-01-01 00:30:01</td>\n",
              "      <td>1</td>\n",
              "      <td>2.30</td>\n",
              "      <td>1</td>\n",
              "      <td>N</td>\n",
              "      <td>231</td>\n",
              "      <td>...</td>\n",
              "      <td>2</td>\n",
              "      <td>8.5</td>\n",
              "      <td>0.5</td>\n",
              "      <td>0.5</td>\n",
              "      <td>0.00</td>\n",
              "      <td>0.0</td>\n",
              "      <td>0.0</td>\n",
              "      <td>9.50</td>\n",
              "      <td>NaN</td>\n",
              "      <td>NaN</td>\n",
              "    </tr>\n",
              "    <tr>\n",
              "      <th>2</th>\n",
              "      <td>2</td>\n",
              "      <td>2</td>\n",
              "      <td>1</td>\n",
              "      <td>2012-01-01 00:31:38</td>\n",
              "      <td>2012-01-01 00:46:05</td>\n",
              "      <td>1</td>\n",
              "      <td>2.20</td>\n",
              "      <td>1</td>\n",
              "      <td>N</td>\n",
              "      <td>164</td>\n",
              "      <td>...</td>\n",
              "      <td>2</td>\n",
              "      <td>9.3</td>\n",
              "      <td>0.5</td>\n",
              "      <td>0.5</td>\n",
              "      <td>0.00</td>\n",
              "      <td>0.0</td>\n",
              "      <td>0.0</td>\n",
              "      <td>10.30</td>\n",
              "      <td>NaN</td>\n",
              "      <td>NaN</td>\n",
              "    </tr>\n",
              "    <tr>\n",
              "      <th>3</th>\n",
              "      <td>3</td>\n",
              "      <td>3</td>\n",
              "      <td>1</td>\n",
              "      <td>2012-01-01 00:47:35</td>\n",
              "      <td>2012-01-01 00:55:57</td>\n",
              "      <td>4</td>\n",
              "      <td>0.90</td>\n",
              "      <td>1</td>\n",
              "      <td>N</td>\n",
              "      <td>148</td>\n",
              "      <td>...</td>\n",
              "      <td>2</td>\n",
              "      <td>5.3</td>\n",
              "      <td>0.5</td>\n",
              "      <td>0.5</td>\n",
              "      <td>0.00</td>\n",
              "      <td>0.0</td>\n",
              "      <td>0.0</td>\n",
              "      <td>6.30</td>\n",
              "      <td>NaN</td>\n",
              "      <td>NaN</td>\n",
              "    </tr>\n",
              "    <tr>\n",
              "      <th>4</th>\n",
              "      <td>4</td>\n",
              "      <td>4</td>\n",
              "      <td>1</td>\n",
              "      <td>2012-01-01 00:57:08</td>\n",
              "      <td>2012-01-01 01:02:42</td>\n",
              "      <td>3</td>\n",
              "      <td>0.70</td>\n",
              "      <td>1</td>\n",
              "      <td>N</td>\n",
              "      <td>107</td>\n",
              "      <td>...</td>\n",
              "      <td>2</td>\n",
              "      <td>4.5</td>\n",
              "      <td>0.5</td>\n",
              "      <td>0.5</td>\n",
              "      <td>0.00</td>\n",
              "      <td>0.0</td>\n",
              "      <td>0.0</td>\n",
              "      <td>5.50</td>\n",
              "      <td>NaN</td>\n",
              "      <td>NaN</td>\n",
              "    </tr>\n",
              "    <tr>\n",
              "      <th>...</th>\n",
              "      <td>...</td>\n",
              "      <td>...</td>\n",
              "      <td>...</td>\n",
              "      <td>...</td>\n",
              "      <td>...</td>\n",
              "      <td>...</td>\n",
              "      <td>...</td>\n",
              "      <td>...</td>\n",
              "      <td>...</td>\n",
              "      <td>...</td>\n",
              "      <td>...</td>\n",
              "      <td>...</td>\n",
              "      <td>...</td>\n",
              "      <td>...</td>\n",
              "      <td>...</td>\n",
              "      <td>...</td>\n",
              "      <td>...</td>\n",
              "      <td>...</td>\n",
              "      <td>...</td>\n",
              "      <td>...</td>\n",
              "      <td>...</td>\n",
              "    </tr>\n",
              "    <tr>\n",
              "      <th>4999995</th>\n",
              "      <td>4999995</td>\n",
              "      <td>4999995</td>\n",
              "      <td>1</td>\n",
              "      <td>2012-01-13 16:50:11</td>\n",
              "      <td>2012-01-13 16:55:29</td>\n",
              "      <td>1</td>\n",
              "      <td>0.80</td>\n",
              "      <td>1</td>\n",
              "      <td>N</td>\n",
              "      <td>234</td>\n",
              "      <td>...</td>\n",
              "      <td>2</td>\n",
              "      <td>4.9</td>\n",
              "      <td>1.0</td>\n",
              "      <td>0.5</td>\n",
              "      <td>0.00</td>\n",
              "      <td>0.0</td>\n",
              "      <td>0.0</td>\n",
              "      <td>6.40</td>\n",
              "      <td>NaN</td>\n",
              "      <td>NaN</td>\n",
              "    </tr>\n",
              "    <tr>\n",
              "      <th>4999996</th>\n",
              "      <td>4999996</td>\n",
              "      <td>4999996</td>\n",
              "      <td>1</td>\n",
              "      <td>2012-01-13 16:56:43</td>\n",
              "      <td>2012-01-13 17:05:24</td>\n",
              "      <td>1</td>\n",
              "      <td>1.30</td>\n",
              "      <td>1</td>\n",
              "      <td>N</td>\n",
              "      <td>113</td>\n",
              "      <td>...</td>\n",
              "      <td>1</td>\n",
              "      <td>6.5</td>\n",
              "      <td>1.0</td>\n",
              "      <td>0.5</td>\n",
              "      <td>1.60</td>\n",
              "      <td>0.0</td>\n",
              "      <td>0.0</td>\n",
              "      <td>9.60</td>\n",
              "      <td>NaN</td>\n",
              "      <td>NaN</td>\n",
              "    </tr>\n",
              "    <tr>\n",
              "      <th>4999997</th>\n",
              "      <td>4999997</td>\n",
              "      <td>4999997</td>\n",
              "      <td>2</td>\n",
              "      <td>2012-01-13 16:03:00</td>\n",
              "      <td>2012-01-13 16:19:00</td>\n",
              "      <td>4</td>\n",
              "      <td>2.83</td>\n",
              "      <td>1</td>\n",
              "      <td>NaN</td>\n",
              "      <td>113</td>\n",
              "      <td>...</td>\n",
              "      <td>1</td>\n",
              "      <td>10.9</td>\n",
              "      <td>1.0</td>\n",
              "      <td>0.5</td>\n",
              "      <td>2.00</td>\n",
              "      <td>0.0</td>\n",
              "      <td>0.0</td>\n",
              "      <td>14.40</td>\n",
              "      <td>NaN</td>\n",
              "      <td>NaN</td>\n",
              "    </tr>\n",
              "    <tr>\n",
              "      <th>4999998</th>\n",
              "      <td>4999998</td>\n",
              "      <td>4999998</td>\n",
              "      <td>2</td>\n",
              "      <td>2012-01-13 16:29:00</td>\n",
              "      <td>2012-01-13 16:51:00</td>\n",
              "      <td>5</td>\n",
              "      <td>7.59</td>\n",
              "      <td>1</td>\n",
              "      <td>NaN</td>\n",
              "      <td>231</td>\n",
              "      <td>...</td>\n",
              "      <td>1</td>\n",
              "      <td>20.1</td>\n",
              "      <td>1.0</td>\n",
              "      <td>0.5</td>\n",
              "      <td>4.22</td>\n",
              "      <td>0.0</td>\n",
              "      <td>0.0</td>\n",
              "      <td>25.82</td>\n",
              "      <td>NaN</td>\n",
              "      <td>NaN</td>\n",
              "    </tr>\n",
              "    <tr>\n",
              "      <th>4999999</th>\n",
              "      <td>4999999</td>\n",
              "      <td>4999999</td>\n",
              "      <td>1</td>\n",
              "      <td>2012-01-13 16:12:48</td>\n",
              "      <td>2012-01-13 16:33:14</td>\n",
              "      <td>1</td>\n",
              "      <td>5.20</td>\n",
              "      <td>1</td>\n",
              "      <td>N</td>\n",
              "      <td>231</td>\n",
              "      <td>...</td>\n",
              "      <td>1</td>\n",
              "      <td>15.3</td>\n",
              "      <td>1.0</td>\n",
              "      <td>0.5</td>\n",
              "      <td>3.35</td>\n",
              "      <td>0.0</td>\n",
              "      <td>0.0</td>\n",
              "      <td>20.15</td>\n",
              "      <td>NaN</td>\n",
              "      <td>NaN</td>\n",
              "    </tr>\n",
              "  </tbody>\n",
              "</table>\n",
              "<p>5000000 rows × 21 columns</p>\n",
              "</div>\n",
              "    <div class=\"colab-df-buttons\">\n",
              "\n",
              "  <div class=\"colab-df-container\">\n",
              "    <button class=\"colab-df-convert\" onclick=\"convertToInteractive('df-1d11798b-95f2-4c8e-aa2f-4e0edbdbbc4c')\"\n",
              "            title=\"Convert this dataframe to an interactive table.\"\n",
              "            style=\"display:none;\">\n",
              "\n",
              "  <svg xmlns=\"http://www.w3.org/2000/svg\" height=\"24px\" viewBox=\"0 -960 960 960\">\n",
              "    <path d=\"M120-120v-720h720v720H120Zm60-500h600v-160H180v160Zm220 220h160v-160H400v160Zm0 220h160v-160H400v160ZM180-400h160v-160H180v160Zm440 0h160v-160H620v160ZM180-180h160v-160H180v160Zm440 0h160v-160H620v160Z\"/>\n",
              "  </svg>\n",
              "    </button>\n",
              "\n",
              "  <style>\n",
              "    .colab-df-container {\n",
              "      display:flex;\n",
              "      gap: 12px;\n",
              "    }\n",
              "\n",
              "    .colab-df-convert {\n",
              "      background-color: #E8F0FE;\n",
              "      border: none;\n",
              "      border-radius: 50%;\n",
              "      cursor: pointer;\n",
              "      display: none;\n",
              "      fill: #1967D2;\n",
              "      height: 32px;\n",
              "      padding: 0 0 0 0;\n",
              "      width: 32px;\n",
              "    }\n",
              "\n",
              "    .colab-df-convert:hover {\n",
              "      background-color: #E2EBFA;\n",
              "      box-shadow: 0px 1px 2px rgba(60, 64, 67, 0.3), 0px 1px 3px 1px rgba(60, 64, 67, 0.15);\n",
              "      fill: #174EA6;\n",
              "    }\n",
              "\n",
              "    .colab-df-buttons div {\n",
              "      margin-bottom: 4px;\n",
              "    }\n",
              "\n",
              "    [theme=dark] .colab-df-convert {\n",
              "      background-color: #3B4455;\n",
              "      fill: #D2E3FC;\n",
              "    }\n",
              "\n",
              "    [theme=dark] .colab-df-convert:hover {\n",
              "      background-color: #434B5C;\n",
              "      box-shadow: 0px 1px 3px 1px rgba(0, 0, 0, 0.15);\n",
              "      filter: drop-shadow(0px 1px 2px rgba(0, 0, 0, 0.3));\n",
              "      fill: #FFFFFF;\n",
              "    }\n",
              "  </style>\n",
              "\n",
              "    <script>\n",
              "      const buttonEl =\n",
              "        document.querySelector('#df-1d11798b-95f2-4c8e-aa2f-4e0edbdbbc4c button.colab-df-convert');\n",
              "      buttonEl.style.display =\n",
              "        google.colab.kernel.accessAllowed ? 'block' : 'none';\n",
              "\n",
              "      async function convertToInteractive(key) {\n",
              "        const element = document.querySelector('#df-1d11798b-95f2-4c8e-aa2f-4e0edbdbbc4c');\n",
              "        const dataTable =\n",
              "          await google.colab.kernel.invokeFunction('convertToInteractive',\n",
              "                                                    [key], {});\n",
              "        if (!dataTable) return;\n",
              "\n",
              "        const docLinkHtml = 'Like what you see? Visit the ' +\n",
              "          '<a target=\"_blank\" href=https://colab.research.google.com/notebooks/data_table.ipynb>data table notebook</a>'\n",
              "          + ' to learn more about interactive tables.';\n",
              "        element.innerHTML = '';\n",
              "        dataTable['output_type'] = 'display_data';\n",
              "        await google.colab.output.renderOutput(dataTable, element);\n",
              "        const docLink = document.createElement('div');\n",
              "        docLink.innerHTML = docLinkHtml;\n",
              "        element.appendChild(docLink);\n",
              "      }\n",
              "    </script>\n",
              "  </div>\n",
              "\n",
              "\n",
              "<div id=\"df-b7e24461-1513-409b-a4b9-d004ed165573\">\n",
              "  <button class=\"colab-df-quickchart\" onclick=\"quickchart('df-b7e24461-1513-409b-a4b9-d004ed165573')\"\n",
              "            title=\"Suggest charts.\"\n",
              "            style=\"display:none;\">\n",
              "\n",
              "<svg xmlns=\"http://www.w3.org/2000/svg\" height=\"24px\"viewBox=\"0 0 24 24\"\n",
              "     width=\"24px\">\n",
              "    <g>\n",
              "        <path d=\"M19 3H5c-1.1 0-2 .9-2 2v14c0 1.1.9 2 2 2h14c1.1 0 2-.9 2-2V5c0-1.1-.9-2-2-2zM9 17H7v-7h2v7zm4 0h-2V7h2v10zm4 0h-2v-4h2v4z\"/>\n",
              "    </g>\n",
              "</svg>\n",
              "  </button>\n",
              "\n",
              "<style>\n",
              "  .colab-df-quickchart {\n",
              "      --bg-color: #E8F0FE;\n",
              "      --fill-color: #1967D2;\n",
              "      --hover-bg-color: #E2EBFA;\n",
              "      --hover-fill-color: #174EA6;\n",
              "      --disabled-fill-color: #AAA;\n",
              "      --disabled-bg-color: #DDD;\n",
              "  }\n",
              "\n",
              "  [theme=dark] .colab-df-quickchart {\n",
              "      --bg-color: #3B4455;\n",
              "      --fill-color: #D2E3FC;\n",
              "      --hover-bg-color: #434B5C;\n",
              "      --hover-fill-color: #FFFFFF;\n",
              "      --disabled-bg-color: #3B4455;\n",
              "      --disabled-fill-color: #666;\n",
              "  }\n",
              "\n",
              "  .colab-df-quickchart {\n",
              "    background-color: var(--bg-color);\n",
              "    border: none;\n",
              "    border-radius: 50%;\n",
              "    cursor: pointer;\n",
              "    display: none;\n",
              "    fill: var(--fill-color);\n",
              "    height: 32px;\n",
              "    padding: 0;\n",
              "    width: 32px;\n",
              "  }\n",
              "\n",
              "  .colab-df-quickchart:hover {\n",
              "    background-color: var(--hover-bg-color);\n",
              "    box-shadow: 0 1px 2px rgba(60, 64, 67, 0.3), 0 1px 3px 1px rgba(60, 64, 67, 0.15);\n",
              "    fill: var(--button-hover-fill-color);\n",
              "  }\n",
              "\n",
              "  .colab-df-quickchart-complete:disabled,\n",
              "  .colab-df-quickchart-complete:disabled:hover {\n",
              "    background-color: var(--disabled-bg-color);\n",
              "    fill: var(--disabled-fill-color);\n",
              "    box-shadow: none;\n",
              "  }\n",
              "\n",
              "  .colab-df-spinner {\n",
              "    border: 2px solid var(--fill-color);\n",
              "    border-color: transparent;\n",
              "    border-bottom-color: var(--fill-color);\n",
              "    animation:\n",
              "      spin 1s steps(1) infinite;\n",
              "  }\n",
              "\n",
              "  @keyframes spin {\n",
              "    0% {\n",
              "      border-color: transparent;\n",
              "      border-bottom-color: var(--fill-color);\n",
              "      border-left-color: var(--fill-color);\n",
              "    }\n",
              "    20% {\n",
              "      border-color: transparent;\n",
              "      border-left-color: var(--fill-color);\n",
              "      border-top-color: var(--fill-color);\n",
              "    }\n",
              "    30% {\n",
              "      border-color: transparent;\n",
              "      border-left-color: var(--fill-color);\n",
              "      border-top-color: var(--fill-color);\n",
              "      border-right-color: var(--fill-color);\n",
              "    }\n",
              "    40% {\n",
              "      border-color: transparent;\n",
              "      border-right-color: var(--fill-color);\n",
              "      border-top-color: var(--fill-color);\n",
              "    }\n",
              "    60% {\n",
              "      border-color: transparent;\n",
              "      border-right-color: var(--fill-color);\n",
              "    }\n",
              "    80% {\n",
              "      border-color: transparent;\n",
              "      border-right-color: var(--fill-color);\n",
              "      border-bottom-color: var(--fill-color);\n",
              "    }\n",
              "    90% {\n",
              "      border-color: transparent;\n",
              "      border-bottom-color: var(--fill-color);\n",
              "    }\n",
              "  }\n",
              "</style>\n",
              "\n",
              "  <script>\n",
              "    async function quickchart(key) {\n",
              "      const quickchartButtonEl =\n",
              "        document.querySelector('#' + key + ' button');\n",
              "      quickchartButtonEl.disabled = true;  // To prevent multiple clicks.\n",
              "      quickchartButtonEl.classList.add('colab-df-spinner');\n",
              "      try {\n",
              "        const charts = await google.colab.kernel.invokeFunction(\n",
              "            'suggestCharts', [key], {});\n",
              "      } catch (error) {\n",
              "        console.error('Error during call to suggestCharts:', error);\n",
              "      }\n",
              "      quickchartButtonEl.classList.remove('colab-df-spinner');\n",
              "      quickchartButtonEl.classList.add('colab-df-quickchart-complete');\n",
              "    }\n",
              "    (() => {\n",
              "      let quickchartButtonEl =\n",
              "        document.querySelector('#df-b7e24461-1513-409b-a4b9-d004ed165573 button');\n",
              "      quickchartButtonEl.style.display =\n",
              "        google.colab.kernel.accessAllowed ? 'block' : 'none';\n",
              "    })();\n",
              "  </script>\n",
              "</div>\n",
              "    </div>\n",
              "  </div>\n"
            ]
          },
          "metadata": {},
          "execution_count": 6
        }
      ],
      "source": [
        "trip_data_january"
      ]
    },
    {
      "cell_type": "markdown",
      "metadata": {
        "id": "yBg3Mhx9h0mf"
      },
      "source": [
        "# **Probabilidade Simples**"
      ]
    },
    {
      "cell_type": "markdown",
      "metadata": {
        "id": "bWbZw39wh0mf"
      },
      "source": [
        "**Qual a probabilidade de ter sido uma corrida de mais de 2 milhas?**"
      ]
    },
    {
      "cell_type": "code",
      "execution_count": 91,
      "metadata": {
        "id": "cdb0tbm0h0mg",
        "colab": {
          "base_uri": "https://localhost:8080/"
        },
        "outputId": "b3e46eb2-7bdf-4e7c-ec47-bad880b8c4b2"
      },
      "outputs": [
        {
          "output_type": "stream",
          "name": "stdout",
          "text": [
            "A probabilidade de ter sido uma corrida de mais de 2km é de: 41.8788%\n"
          ]
        }
      ],
      "source": [
        "corrida2 = trip_data_january['trip_distance'] > 2.0\n",
        "\n",
        "probCorrida2 = len(trip_data_january[corrida2]) / len(trip_data_january)\n",
        "\n",
        "print('A probabilidade de ter sido uma corrida de mais de 2km é de: ' + str(round((probCorrida2 * 100), 4)) + '%')"
      ]
    },
    {
      "cell_type": "markdown",
      "metadata": {
        "id": "wcpw4Nd-h0mg"
      },
      "source": [
        "Calcular a probabilidade de viagens com mais de 2 milhas ajuda a empresa a tomar decisões estratégicas, como o planejamento da disponibilidade de carros com maior autonomia ou a criação de ofertas especiais para viagens mais longas, impactando diretamente a eficiência operacional e a satisfação do cliente."
      ]
    },
    {
      "cell_type": "markdown",
      "metadata": {
        "id": "99lujuLNh0mg"
      },
      "source": [
        "**Qual a probabilidade de uma corrida ter ocorrido durante a hora do almoco (12h-14h)?**"
      ]
    },
    {
      "cell_type": "code",
      "execution_count": 92,
      "metadata": {
        "id": "nX1qtA0Bh0mg",
        "colab": {
          "base_uri": "https://localhost:8080/"
        },
        "outputId": "878990f8-5d69-40ba-d78b-67971beb78e0"
      },
      "outputs": [
        {
          "output_type": "stream",
          "name": "stdout",
          "text": [
            "A probabilidade de uma corrida ter ocorrido durante o almoço é: 10.0847%\n"
          ]
        }
      ],
      "source": [
        "trip_data_january['tpep_pickup_datetime'] = pd.to_datetime(trip_data_january['tpep_pickup_datetime'])\n",
        "\n",
        "corridasAlmoco = trip_data_january[(trip_data_january['tpep_pickup_datetime'].dt.hour >= 12) & (trip_data_january['tpep_pickup_datetime'].dt.hour < 14)]\n",
        "\n",
        "probAlmoco = len(corridasAlmoco) / len(trip_data_january)\n",
        "\n",
        "print('A probabilidade de uma corrida ter ocorrido durante o almoço é: ' + str(round((probAlmoco * 100), 4)) + '%')"
      ]
    },
    {
      "cell_type": "markdown",
      "metadata": {
        "id": "pPZYh6afh0mh"
      },
      "source": [
        "Calcular essa probabilidade ajuda a empresa a planejar a disponibilidade de veículos nesse horário e a ajustar as estratégias de preços para atender à demanda. Além disso, pode influenciar a oferta de promoções ou descontos específicos para corridas no horário do almoço, o que pode atrair mais passageiros e aumentar a receita. Em última análise, calcular a probabilidade de corridas durante o almoço é uma ferramenta valiosa para melhorar a eficiência operacional e a lucratividade da empresa de táxi."
      ]
    },
    {
      "cell_type": "markdown",
      "metadata": {
        "id": "CzH2VI5Wh0mh"
      },
      "source": [
        "**Qual a probabilidade de uma corrida ter tido duração inferior a 10 minutos?**"
      ]
    },
    {
      "cell_type": "code",
      "execution_count": 93,
      "metadata": {
        "id": "VZ-cZVSlh0mh",
        "colab": {
          "base_uri": "https://localhost:8080/"
        },
        "outputId": "a90c5403-cb59-4d20-d312-5a4f0803f67e"
      },
      "outputs": [
        {
          "output_type": "stream",
          "name": "stdout",
          "text": [
            "A probabilidade de uma corrida ter duração inferior a 10 minutos é: 53.2156%\n"
          ]
        }
      ],
      "source": [
        "trip_data_january['tpep_pickup_datetime'] = pd.to_datetime(trip_data_january['tpep_pickup_datetime'])\n",
        "trip_data_january['tpep_dropoff_datetime'] = pd.to_datetime(trip_data_january['tpep_dropoff_datetime'])\n",
        "\n",
        "trip_data_january['duracao_minutos'] = (trip_data_january['tpep_dropoff_datetime'] - trip_data_january['tpep_pickup_datetime']).dt.total_seconds() / 60\n",
        "\n",
        "probDuracao10min = len(trip_data_january[trip_data_january['duracao_minutos'] < 10]) / len(trip_data_january)\n",
        "\n",
        "print('A probabilidade de uma corrida ter duração inferior a 10 minutos é: ' + str(round((probDuracao10min * 100), 4)) + '%')"
      ]
    },
    {
      "cell_type": "markdown",
      "metadata": {
        "id": "epivYHfph0mh"
      },
      "source": [
        "Essa probabilidade pode influenciar a definição de tarifas ou estratégias de preços para corridas curtas, impactando diretamente a receita da empresa. Portanto, calcular a probabilidade de corridas com duração inferior a 10 minutos é uma ferramenta valiosa para otimizar operações e tomar decisões estratégicas."
      ]
    },
    {
      "cell_type": "markdown",
      "metadata": {
        "id": "rtUTaBxlh0mh"
      },
      "source": [
        "**Qual a probabilidade de o RateCodeID ser 2 (relacionado ao Aeroporto JFK)?**"
      ]
    },
    {
      "cell_type": "code",
      "execution_count": 94,
      "metadata": {
        "id": "b1mhSvtih0mi",
        "outputId": "78bdc736-bdf4-4e22-982d-0f4e7519820a",
        "colab": {
          "base_uri": "https://localhost:8080/"
        }
      },
      "outputs": [
        {
          "output_type": "stream",
          "name": "stdout",
          "text": [
            "A probabilidade de o RateCodeID ser 2 (relacionado ao Aeroporto JFK) é: 1.5555%\n"
          ]
        }
      ],
      "source": [
        "probJfk = len(trip_data_january[trip_data_january['RatecodeID'] == 2]) / len(trip_data_january)\n",
        "\n",
        "print('A probabilidade de o RateCodeID ser 2 (relacionado ao Aeroporto JFK) é: ' + str(round((probJfk * 100), 4)) + '%')"
      ]
    },
    {
      "cell_type": "markdown",
      "metadata": {
        "id": "GqqVOnkQh0mi"
      },
      "source": [
        "Calcular a probabilidade de RateCodeID igual a 2 ajuda a empresa a otimizar sua operação, melhorar a satisfação do cliente e maximizar os lucros relacionados a viagens para o aeroporto."
      ]
    },
    {
      "cell_type": "markdown",
      "metadata": {
        "id": "ym4YLSlVh0mi"
      },
      "source": [
        "**Qual a probabilidade de uma viagem ter uma duração superior a 20 minutos?**"
      ]
    },
    {
      "cell_type": "code",
      "execution_count": 95,
      "metadata": {
        "id": "9L5jZNr8h0mi",
        "colab": {
          "base_uri": "https://localhost:8080/"
        },
        "outputId": "aedee392-a52b-428f-9ef8-ef2f7964cedb"
      },
      "outputs": [
        {
          "output_type": "stream",
          "name": "stdout",
          "text": [
            "A probabilidade de uma viagem ter uma duração superior a 20 minutos é: 10.9033%\n"
          ]
        }
      ],
      "source": [
        "trip_data_january['tpep_pickup_datetime'] = pd.to_datetime(trip_data_january['tpep_pickup_datetime'])\n",
        "trip_data_january['tpep_dropoff_datetime'] = pd.to_datetime(trip_data_january['tpep_dropoff_datetime'])\n",
        "\n",
        "trip_data_january['duração_da_viagem_minutos'] = (trip_data_january['tpep_dropoff_datetime'] - trip_data_january['tpep_pickup_datetime']).dt.total_seconds() / 60\n",
        "\n",
        "viagensMais20 = len(trip_data_january[trip_data_january['duração_da_viagem_minutos'] > 20])\n",
        "\n",
        "probViagensMais20 = viagensMais20 / len(trip_data_january)\n",
        "\n",
        "print('A probabilidade de uma viagem ter uma duração superior a 20 minutos é: ' + str(round((probViagensMais20 * 100), 4)) + '%')"
      ]
    },
    {
      "cell_type": "markdown",
      "metadata": {
        "id": "AdbYP3bOh0mi"
      },
      "source": [
        "A probabilidade de uma viagem de táxi ter uma duração superior a 20 minutos é relevante para passageiros, motoristas e empresas de táxi, pois fornece uma estimativa do tempo de viagem e ajuda a avaliar a eficiência do sistema de transporte."
      ]
    },
    {
      "cell_type": "markdown",
      "metadata": {
        "id": "9QBfbw3Zh0mi"
      },
      "source": [
        "**Qual a probabilidade de uma viagem ter um pagamento de gorjeta (Tip_amount) superior a $5?**"
      ]
    },
    {
      "cell_type": "code",
      "execution_count": 96,
      "metadata": {
        "id": "9OukXda1h0mi",
        "colab": {
          "base_uri": "https://localhost:8080/"
        },
        "outputId": "60350ba5-cf94-4b4e-de6c-dff0424e21d1"
      },
      "outputs": [
        {
          "output_type": "stream",
          "name": "stdout",
          "text": [
            "A probabilidade de uma viagem ter um pagamento de gorjeta superior a $5 é: 2.6156%\n"
          ]
        }
      ],
      "source": [
        "viagensGorjetaMaior5 = len(trip_data_january[trip_data_january['tip_amount'] > 5])\n",
        "\n",
        "probGorjetaMaior5 = viagensGorjetaMaior5 / len(trip_data_january)\n",
        "\n",
        "print('A probabilidade de uma viagem ter um pagamento de gorjeta superior a $5 é: ' + str(round((probGorjetaMaior5 * 100), 4)) + '%')"
      ]
    },
    {
      "cell_type": "markdown",
      "metadata": {
        "id": "gXHPoWEuh0mj"
      },
      "source": [
        "Calcular a probabilidade de uma viagem de táxi ter um pagamento de gorjeta superior a $5 é relevante porque ajuda a avaliar a satisfação do cliente, o desempenho dos motoristas, a qualidade do serviço de táxi e fornece informações úteis para melhorias no setor de táxi."
      ]
    },
    {
      "cell_type": "markdown",
      "metadata": {
        "id": "SUvS9egMh0mj"
      },
      "source": [
        "**Qual a probabilidade de uma viagem ter ocorrido durante um dia útil?**"
      ]
    },
    {
      "cell_type": "code",
      "execution_count": 97,
      "metadata": {
        "id": "uvQwJK15h0mj",
        "colab": {
          "base_uri": "https://localhost:8080/"
        },
        "outputId": "ff6a8f44-ad4a-4905-cc43-2850fd408937"
      },
      "outputs": [
        {
          "output_type": "stream",
          "name": "stdout",
          "text": [
            "A probabilidade de uma viagem ter ocorrido durante um dia útil é: 78.679%\n"
          ]
        }
      ],
      "source": [
        "trip_data_january['tpep_pickup_datetime'] = pd.to_datetime(trip_data_january['tpep_pickup_datetime'])\n",
        "\n",
        "trip_data_january['dia_util'] = trip_data_january['tpep_pickup_datetime'].dt.dayofweek < 5\n",
        "\n",
        "probViagensDiaUtil = len(trip_data_january[trip_data_january['dia_util']]) / len(trip_data_january)\n",
        "\n",
        "print('A probabilidade de uma viagem ter ocorrido durante um dia útil é: ' + str(round((probViagensDiaUtil * 100), 4)) + '%')"
      ]
    },
    {
      "cell_type": "markdown",
      "metadata": {
        "id": "I3JRsfWjh0mj"
      },
      "source": [
        "Calcular a probabilidade de uma viagem de táxi ocorrer durante um dia útil é importante para otimizar operações, atender à demanda dos clientes e planejar estratégias de marketing, contribuindo para a eficiência e sucesso do setor de táxi."
      ]
    },
    {
      "cell_type": "markdown",
      "metadata": {
        "id": "iwjXy2gjh0mj"
      },
      "source": [
        "**Qual a probabilidade de uma viagem ter mais de um passageiro?**"
      ]
    },
    {
      "cell_type": "code",
      "execution_count": 98,
      "metadata": {
        "id": "We2T9rx0h0mj",
        "colab": {
          "base_uri": "https://localhost:8080/"
        },
        "outputId": "b3544a39-dd28-4762-d4ed-715761252670"
      },
      "outputs": [
        {
          "output_type": "stream",
          "name": "stdout",
          "text": [
            "A probabilidade de uma viagem ter mais de um passageiro é: 28.6652%\n"
          ]
        }
      ],
      "source": [
        "probMais1Passageiro = len(trip_data_january[trip_data_january['passenger_count'] > 1]) / len(trip_data_january)\n",
        "\n",
        "print('A probabilidade de uma viagem ter mais de um passageiro é: ' + str(round((probMais1Passageiro * 100), 4)) + '%')"
      ]
    },
    {
      "cell_type": "markdown",
      "metadata": {
        "id": "qXn9l0dDh0mj"
      },
      "source": [
        "Calcular a probabilidade de uma viagem de táxi ter mais de um passageiro é importante para otimizar recursos, desenvolver estratégias de preços, planejar a frota e promover a sustentabilidade no setor de táxi. Essa probabilidade ajuda as empresas a tomar decisões informadas e melhorar a eficiência operacional."
      ]
    },
    {
      "cell_type": "markdown",
      "metadata": {
        "id": "4qpSCjXEh0mj"
      },
      "source": [
        "**Qual a probabilidade de uma viagem ter um pagamento em dinheiro?**"
      ]
    },
    {
      "cell_type": "code",
      "execution_count": 99,
      "metadata": {
        "id": "g6OZ-TmXh0mq",
        "colab": {
          "base_uri": "https://localhost:8080/"
        },
        "outputId": "f180eea7-3e9e-4bd4-d256-2f52dede155c"
      },
      "outputs": [
        {
          "output_type": "stream",
          "name": "stdout",
          "text": [
            "A probabilidade de uma viagem ter um pagamento em dinheiro é: 54.9366%\n"
          ]
        }
      ],
      "source": [
        "viagensDinheiro = len(trip_data_january[trip_data_january['payment_type'] == 2])\n",
        "\n",
        "probPagamentoDinheiro = viagensDinheiro / len(trip_data_january)\n",
        "\n",
        "print('A probabilidade de uma viagem ter um pagamento em dinheiro é: ' + str(round((probPagamentoDinheiro * 100), 4)) + '%')"
      ]
    },
    {
      "cell_type": "markdown",
      "metadata": {
        "id": "w3CRtvAph0mr"
      },
      "source": [
        "Calcular a probabilidade de uma viagem ser paga em dinheiro é relevante para o planejamento financeiro, a segurança financeira, o atendimento ao cliente, estratégias de preços, controle financeiro e tomada de decisões no setor de transporte e táxi. Isso permite estimar a necessidade de dinheiro físico, garantir fundos suficientes, adaptar o serviço ao cliente, ajustar estratégias de preços e manter registros financeiros adequados."
      ]
    },
    {
      "cell_type": "markdown",
      "metadata": {
        "id": "wxWtmEp-h0mr"
      },
      "source": [
        "**Qual a probabilidade de uma viagem ser realizada pela Creative Mobile Technologies, LLC (VendorID = 1)?**"
      ]
    },
    {
      "cell_type": "code",
      "execution_count": 100,
      "metadata": {
        "id": "guMqQs1Eh0mr",
        "colab": {
          "base_uri": "https://localhost:8080/"
        },
        "outputId": "9f766eeb-2da5-4c0e-80cc-bfb2286eb0a0"
      },
      "outputs": [
        {
          "output_type": "stream",
          "name": "stdout",
          "text": [
            "A probabilidade de uma viagem ser realizada pelo VendorID = 1 é: 56.7098%\n"
          ]
        }
      ],
      "source": [
        "probVendor1 = len(trip_data_january[trip_data_january['VendorID'] == 1]) / len(trip_data_january)\n",
        "\n",
        "print('A probabilidade de uma viagem ser realizada pelo VendorID = 1 é: ' + str(round((probVendor1 * 100), 4)) + '%')"
      ]
    },
    {
      "cell_type": "markdown",
      "metadata": {
        "id": "sJ_lJ_HOh0mr"
      },
      "source": [
        "Calcular a probabilidade de uma viagem ser realizada pela maioria dos prestadores de serviços (VendorID = 2) é relevante para entender a participação de mercado desse provedor, avaliar a qualidade dos serviços, tomar decisões estratégicas e otimizar o planejamento de recursos no setor de táxi."
      ]
    },
    {
      "cell_type": "markdown",
      "metadata": {
        "id": "cTcUerZ7h0mr"
      },
      "source": [
        "**Qual a probabilidade de uma viagem ter um pagamento em cartão de crédito?**"
      ]
    },
    {
      "cell_type": "code",
      "execution_count": 101,
      "metadata": {
        "id": "tQrAE6ugh0ms",
        "colab": {
          "base_uri": "https://localhost:8080/"
        },
        "outputId": "71ea5baf-9f1d-4353-a733-bf6e4277c2d9"
      },
      "outputs": [
        {
          "output_type": "stream",
          "name": "stdout",
          "text": [
            "A probabilidade de uma viagem ter um pagamento em cartão de crédito é: 45.0349%\n"
          ]
        }
      ],
      "source": [
        "viagensCartao = len(trip_data_january[trip_data_january['payment_type'] == 1])\n",
        "\n",
        "probPagamentoCartao = viagensCartao / len(trip_data_january)\n",
        "\n",
        "print('A probabilidade de uma viagem ter um pagamento em cartão de crédito é: ' + str(round((probPagamentoCartao * 100), 4)) + '%')"
      ]
    },
    {
      "cell_type": "markdown",
      "metadata": {
        "id": "TAM3XbhRh0mt"
      },
      "source": [
        "Calcular a probabilidade de uma viagem ser paga com cartão de crédito é relevante para empresas de transporte, pois fornece informações valiosas sobre as preferências de pagamento dos clientes. Isso auxilia na gestão de receitas, planejamento financeiro, segurança financeira, previsão de demanda e melhoria dos serviços, resultando em uma operação mais eficiente e adaptada às necessidades dos passageiros."
      ]
    },
    {
      "cell_type": "markdown",
      "metadata": {
        "id": "Im6lPnIDh0mt"
      },
      "source": [
        "**Qual a probabilidade de uma corrida ter ocorrido durante o horário de pico de tráfego (17h-19h)?**"
      ]
    },
    {
      "cell_type": "code",
      "execution_count": 102,
      "metadata": {
        "id": "vEfrt3V1h0mu",
        "colab": {
          "base_uri": "https://localhost:8080/"
        },
        "outputId": "71a476fb-50c2-4042-cca1-b4fe1c848823"
      },
      "outputs": [
        {
          "output_type": "stream",
          "name": "stdout",
          "text": [
            "A probabilidade de uma corrida ter ocorrido durante o horário de pico é: 11.137%\n"
          ]
        }
      ],
      "source": [
        "corridasPico = trip_data_january[(trip_data_january['tpep_pickup_datetime'].dt.hour >= 17) & (trip_data_january['tpep_pickup_datetime'].dt.hour < 19)]\n",
        "\n",
        "probPico = len(corridasPico) / len(trip_data_january)\n",
        "\n",
        "print('A probabilidade de uma corrida ter ocorrido durante o horário de pico é: ' + str(round((probPico * 100), 4)) + '%')"
      ]
    },
    {
      "cell_type": "markdown",
      "metadata": {
        "id": "sFgtA0AVh0mu"
      },
      "source": [
        "Calcular a probabilidade de uma corrida ocorrer durante o horário de pico (17h-19h) é relevante para entender o impacto do tráfego e da demanda durante esse período específico. Isso pode auxiliar na alocação eficiente de recursos e na otimização dos serviços de transporte, como táxis, contribuindo para melhorar a qualidade e a eficiência das operações."
      ]
    },
    {
      "cell_type": "markdown",
      "source": [
        "**Qual a probabilidade de uma corrida ter dado um total (total_amount) maior que $10?**"
      ],
      "metadata": {
        "id": "DGHZ7WJCFIAe"
      }
    },
    {
      "cell_type": "code",
      "source": [
        "corridasTotal10 = len(trip_data_january[trip_data_january['total_amount'] > 10])\n",
        "\n",
        "probTotal10 = corridasTotal10 / len(trip_data_january)\n",
        "\n",
        "print('A probabilidade de uma corrida ter um total (total_amount) maior que $10 é: ' + str(round((probTotal10 * 100), 4)) + '%')"
      ],
      "metadata": {
        "colab": {
          "base_uri": "https://localhost:8080/"
        },
        "id": "2ifdpDXnFZB0",
        "outputId": "6bbbf6c5-4a20-4bd0-97df-ecec088ada0a"
      },
      "execution_count": 103,
      "outputs": [
        {
          "output_type": "stream",
          "name": "stdout",
          "text": [
            "A probabilidade de uma corrida ter um total (total_amount) maior que $10 é: 41.3404%\n"
          ]
        }
      ]
    },
    {
      "cell_type": "markdown",
      "source": [
        "Essa análise é importante para entender a distribuição de custos das corridas e pode ser útil para motoristas e passageiros estimarem os gastos esperados em uma viagem de táxi. Também pode fornecer informações para empresas de táxi ajustarem estratégias de preços e promoções com base na probabilidade de custos totais superiores a $10."
      ],
      "metadata": {
        "id": "m-ZopxrzPOT9"
      }
    },
    {
      "cell_type": "markdown",
      "metadata": {
        "id": "dNavrCY7h0mu"
      },
      "source": [
        "# **Probabilidade com União**"
      ]
    },
    {
      "cell_type": "markdown",
      "metadata": {
        "id": "mrmmCi6sh0mu"
      },
      "source": [
        "**Qual a probabilidade de uma corrida ter ocorrido em um final de semana OU durante o horário de pico de tráfego (17h-19h)?**"
      ]
    },
    {
      "cell_type": "code",
      "execution_count": 104,
      "metadata": {
        "id": "2WTgQUCch0mu",
        "colab": {
          "base_uri": "https://localhost:8080/"
        },
        "outputId": "8f7a337f-a622-4a91-d33a-049b4f080b26"
      },
      "outputs": [
        {
          "output_type": "stream",
          "name": "stdout",
          "text": [
            "A probabilidade de uma corrida ter ocorrido em um final de semana OU durante o horário de pico é: 30.0835%\n"
          ]
        }
      ],
      "source": [
        "trip_data_january['final_de_semana'] = (trip_data_january['tpep_pickup_datetime'].dt.dayofweek >= 5)\n",
        "\n",
        "probFds = len(trip_data_january[trip_data_january['final_de_semana']]) / len(trip_data_january)\n",
        "\n",
        "probFdsOuPico = probFds + probPico - (probFds * probPico)\n",
        "\n",
        "print('A probabilidade de uma corrida ter ocorrido em um final de semana OU durante o horário de pico é: ' + str(round((probFdsOuPico * 100), 4)) + '%')\n"
      ]
    },
    {
      "cell_type": "markdown",
      "metadata": {
        "id": "siE9eZLJh0mv"
      },
      "source": [
        "Com base nos dados de histórico de corridas, esse cálculo permite planejar a disponibilidade de carros e motoristas nos finais de semana e ajustar as tarifas durante o horário de pico para atender à demanda. Além disso, essa informação é valiosa para tomar decisões estratégicas que podem impactar tanto a eficiência operacional quanto a satisfação do cliente."
      ]
    },
    {
      "cell_type": "markdown",
      "metadata": {
        "id": "FagRxBOGh0mv"
      },
      "source": [
        "**Qual é a probabilidade de uma viagem ser realizada pela Creative Mobile Technologies, LLC (VendorID = 1) OU o pagamento ser feito com cartão de crédito (Payment_type = 1)?**"
      ]
    },
    {
      "cell_type": "code",
      "execution_count": 105,
      "metadata": {
        "id": "H7sCWdi8h0mv",
        "colab": {
          "base_uri": "https://localhost:8080/"
        },
        "outputId": "80e53942-5df4-462d-9f3d-7a7b1e5138de"
      },
      "outputs": [
        {
          "output_type": "stream",
          "name": "stdout",
          "text": [
            "A probabilidade de uma viagem ser realizada pela Creative Mobile Technologies, LLC (VendorID = 1) OU o pagamento ser feito com cartão de crédito (Payment_type = 1) é: 76.2055%\n"
          ]
        }
      ],
      "source": [
        "probVendorCredito = probVendor1 + probPagamentoCartao - (probVendor1 * probPagamentoCartao)\n",
        "\n",
        "print('A probabilidade de uma viagem ser realizada pela Creative Mobile Technologies, LLC (VendorID = 1) OU o pagamento ser feito com cartão de crédito (Payment_type = 1) é: ' + str(round((probVendorCredito * 100), 4)) + '%')"
      ]
    },
    {
      "cell_type": "markdown",
      "metadata": {
        "id": "P4OtpBCsh0mv"
      },
      "source": [
        "Com base nessa informação, a empresa pode ajustar suas estratégias de marketing, alocação de recursos e processos de pagamento para atender às preferências dos passageiros e otimizar a eficiência operacional. Além disso, essa probabilidade pode ser útil para decisões estratégicas, como parcerias com empresas de tecnologia de pagamento ou campanhas de fidelização de clientes que incentivem o uso de cartão de crédito como forma de pagamento."
      ]
    },
    {
      "cell_type": "markdown",
      "metadata": {
        "id": "eC_cDKxJh0mv"
      },
      "source": [
        "**Qual a probabilidade de uma corrida ter ocorrido durante a hora do almoço (12h-14h) OU ter uma duração superior a 20 minutos?**"
      ]
    },
    {
      "cell_type": "code",
      "execution_count": 106,
      "metadata": {
        "id": "2FXZG0hhh0mw",
        "colab": {
          "base_uri": "https://localhost:8080/"
        },
        "outputId": "5fe9a22c-7419-494a-9110-6544cbde636e"
      },
      "outputs": [
        {
          "output_type": "stream",
          "name": "stdout",
          "text": [
            "A probabilidade de uma corrida ter ocorrido durante o horário do almoço (12h-14h) ou ter uma duração superior a 20 minutos é: 19.8884%\n"
          ]
        }
      ],
      "source": [
        "probAlmocoOuMais20 = probAlmoco + probViagensMais20 - (probAlmoco * probViagensMais20)\n",
        "\n",
        "print('A probabilidade de uma corrida ter ocorrido durante o horário do almoço (12h-14h) ou ter uma duração superior a 20 minutos é: ' + str(round((probAlmocoOuMais20 * 100), 4)) + '%')\n"
      ]
    },
    {
      "cell_type": "markdown",
      "metadata": {
        "id": "NaQ6LEo6h0mw"
      },
      "source": [
        "Calcular a probabilidade de uma corrida de táxi ocorrer durante a hora do almoço (12h-14h) ou ter uma duração superior a 20 minutos é relevante para empresas de táxi devido a diversos motivos, como o planejamento de recursos, a melhoria do serviço ao cliente, a previsão de lucros, a eficiência operacional, a segurança dos motoristas e a melhoria da experiência do passageiro."
      ]
    },
    {
      "cell_type": "markdown",
      "metadata": {
        "id": "K2Dm4rkhh0mw"
      },
      "source": [
        "**Qual a probabilidade de uma corrida ter tido duração inferior a 10 minutos OU ter um pagamento de gorjeta (Tip_amount) superior a $5?**"
      ]
    },
    {
      "cell_type": "code",
      "execution_count": 107,
      "metadata": {
        "id": "A-4om988h0mw",
        "colab": {
          "base_uri": "https://localhost:8080/"
        },
        "outputId": "1d51b9a6-d6d7-4b39-ffb3-0f8fac800b2d"
      },
      "outputs": [
        {
          "output_type": "stream",
          "name": "stdout",
          "text": [
            "A probabilidade de uma corrida ter tido duração inferior a 10 minutos OU ter um pagamento de gorjeta superior a $5 é: 54.4393%\n"
          ]
        }
      ],
      "source": [
        "probUniao = probDuracao10min + probGorjetaMaior5 - (probDuracao10min * probGorjetaMaior5)\n",
        "\n",
        "print('A probabilidade de uma corrida ter tido duração inferior a 10 minutos OU ter um pagamento de gorjeta superior a $5 é: ' + str(round((probUniao * 100), 4)) + '%')"
      ]
    },
    {
      "cell_type": "markdown",
      "metadata": {
        "id": "vAvcnDbLh0mx"
      },
      "source": [
        "Calcular a probabilidade de uma corrida ter tido duração inferior a 10 minutos ou ter um pagamento de gorjeta superior a $5 é relevante para avaliar a qualidade do serviço de transporte. Corridas muito curtas podem ser indesejadas para motoristas e passageiros, enquanto gorjetas generosas indicam satisfação. A análise dessa probabilidade ajuda a entender a satisfação dos passageiros e identificar áreas de melhoria no serviço."
      ]
    },
    {
      "cell_type": "markdown",
      "metadata": {
        "id": "VwsdbrMBh0mx"
      },
      "source": [
        "**Qual a probabilidade de uma viagem ter ocorrido durante um dia útil ou ter mais de um passageiro?**"
      ]
    },
    {
      "cell_type": "code",
      "execution_count": 108,
      "metadata": {
        "id": "ivRFzDhjh0mx",
        "colab": {
          "base_uri": "https://localhost:8080/"
        },
        "outputId": "0f4658d9-0653-4de0-bd2a-cb1b0767c747"
      },
      "outputs": [
        {
          "output_type": "stream",
          "name": "stdout",
          "text": [
            "A probabilidade de uma viagem ter ocorrido durante um dia util OU ter mais de um passageiro é: 84.7907%\n"
          ]
        }
      ],
      "source": [
        "probUtilPassageiroMais1 = probViagensDiaUtil + probMais1Passageiro - (probViagensDiaUtil * probMais1Passageiro)\n",
        "\n",
        "print('A probabilidade de uma viagem ter ocorrido durante um dia util OU ter mais de um passageiro é: ' + str(round((probUtilPassageiroMais1 * 100), 4)) + '%')"
      ]
    },
    {
      "cell_type": "markdown",
      "metadata": {
        "id": "RqZvvChLh0mx"
      },
      "source": [
        "Calcular a probabilidade de uma viagem ter ocorrido durante um dia útil ou ter mais de um passageiro é relevante para entender os padrões de viagem e demanda por serviços de táxi. Essa informação pode ser útil para empresas de táxi ao planejar recursos e horários de pico, além de fornecer insights sobre preferências dos passageiros."
      ]
    },
    {
      "cell_type": "markdown",
      "source": [
        "**Qual a probabilidade de ser uma corrida de menos de 2 milhas OU inferior a 10 minutos?**"
      ],
      "metadata": {
        "id": "vRBl0sP-CET_"
      }
    },
    {
      "cell_type": "code",
      "source": [
        "probCorrida2Duracao10 = probCorrida2 + probDuracao10min - (probCorrida2 * probDuracao10min)\n",
        "\n",
        "print('A probabilidade de ser uma corrida de menos de 2 milhas OU inferior a 10 minutos é: ' + str(round((probCorrida2Duracao10 * 100), 4)) + '%')"
      ],
      "metadata": {
        "colab": {
          "base_uri": "https://localhost:8080/"
        },
        "id": "CDx4oI09CXSs",
        "outputId": "4231ae7e-f814-4979-930a-d6a312bcbb59"
      },
      "execution_count": 109,
      "outputs": [
        {
          "output_type": "stream",
          "name": "stdout",
          "text": [
            "A probabilidade de ser uma corrida de menos de 2 milhas OU inferior a 10 minutos é: 72.8083%\n"
          ]
        }
      ]
    },
    {
      "cell_type": "markdown",
      "source": [
        "A probabilidade de uma corrida ser de menos de 2 milhas OU inferior a 10 minutos é relevante para entender a frequência de viagens curtas ou rápidas em comparação com viagens mais longas ou mais demoradas. Essa probabilidade oferece insights sobre as preferências dos passageiros em relação à duração e à distância das viagens e pode influenciar estratégias de atendimento e planejamento de rotas."
      ],
      "metadata": {
        "id": "tKpCMuM8CvFa"
      }
    },
    {
      "cell_type": "markdown",
      "metadata": {
        "id": "JN4toflCh0mx"
      },
      "source": [
        "# **Probabilidade com Intersecção**"
      ]
    },
    {
      "cell_type": "markdown",
      "metadata": {
        "id": "nFAkmrZch0mx"
      },
      "source": [
        "**Qual é a probabilidade de uma viagem ser realizada pela Creative Mobile Technologies, LLC (VendorID = 1) E ao mesmo tempo ter um RateCodeID igual a 2 (indicando uma viagem para o Aeroporto JFK)?**"
      ]
    },
    {
      "cell_type": "code",
      "execution_count": 110,
      "metadata": {
        "id": "1uSOPT2Mh0mx",
        "outputId": "f8122be8-6181-44c3-a7d7-b707faf9f32e",
        "colab": {
          "base_uri": "https://localhost:8080/"
        }
      },
      "outputs": [
        {
          "output_type": "stream",
          "name": "stdout",
          "text": [
            "A probabilidade de uma viagem ser realizada pela Creative Mobile Technologies, LLC (VendorID) E ao mesmo tempo ter um RateCodeID igual a 2 (indicando uma viagem para o Aeroporto JFK) é: 0.8821%\n"
          ]
        }
      ],
      "source": [
        "probInterseccaoRatecode2Vendor1 = probVendor1 * probJfk\n",
        "\n",
        "print('A probabilidade de uma viagem ser realizada pela Creative Mobile Technologies, LLC (VendorID) E ao mesmo tempo ter um RateCodeID igual a 2 (indicando uma viagem para o Aeroporto JFK) é: ' + str(round((probInterseccaoRatecode2Vendor1 * 100), 4)) + '%')"
      ]
    },
    {
      "cell_type": "markdown",
      "metadata": {
        "id": "fihRxrXnh0my"
      },
      "source": [
        "Calcular essa probabilidade é importante para melhorar a eficiência operacional e a satisfação do cliente, bem como para tomar decisões estratégicas relacionadas à parceria com fornecedores específicos e ao atendimento aos passageiros do aeroporto."
      ]
    },
    {
      "cell_type": "markdown",
      "metadata": {
        "id": "i49PaGvlh0my"
      },
      "source": [
        "**Qual é a probabilidade de uma viagem ter mais de 1 passageiro (Passenger_count > 1) E o pagamento ser feito em dinheiro?**"
      ]
    },
    {
      "cell_type": "code",
      "execution_count": 111,
      "metadata": {
        "id": "yLY8vyQih0my",
        "outputId": "b2883cd7-892d-49b1-c0d6-60a104959588",
        "colab": {
          "base_uri": "https://localhost:8080/"
        }
      },
      "outputs": [
        {
          "output_type": "stream",
          "name": "stdout",
          "text": [
            "A probabilidade de uma viagem ter exatamente 1 passageiros (Passenger_count) E o pagamento ser feito em dinheiro é: 15.7477%\n"
          ]
        }
      ],
      "source": [
        "probInterseccaoMaisPassageiros1Dinheiro = probMais1Passageiro * probPagamentoDinheiro\n",
        "\n",
        "print('A probabilidade de uma viagem ter exatamente 1 passageiros (Passenger_count) E o pagamento ser feito em dinheiro é: ' + str(round((probInterseccaoMaisPassageiros1Dinheiro * 100), 4)) + '%')"
      ]
    },
    {
      "cell_type": "markdown",
      "metadata": {
        "id": "0W6LVY0oh0m0"
      },
      "source": [
        "Calcular essa probabilidade é importante para otimizar as operações da empresa, melhorar a experiência do cliente e adaptar suas estratégias de negócios para atender às preferências e necessidades dos passageiros."
      ]
    },
    {
      "cell_type": "markdown",
      "metadata": {
        "id": "JoLvVNSmh0m0"
      },
      "source": [
        "**Qual a probabilidade de uma corrida ter ocorrido durante o horário de pico de tráfego (17h-19h) E ter uma duração superior a 20 minutos?**"
      ]
    },
    {
      "cell_type": "code",
      "execution_count": 112,
      "metadata": {
        "id": "sNYJ2epth0m0",
        "colab": {
          "base_uri": "https://localhost:8080/"
        },
        "outputId": "6eecc42e-9b1f-4f7e-d267-90aed324b3c4"
      },
      "outputs": [
        {
          "output_type": "stream",
          "name": "stdout",
          "text": [
            "A probabilidade de uma corrida ocorrer durante o horário de pico E ter uma duração superior a 20 minutos é: 1.2143%\n"
          ]
        }
      ],
      "source": [
        "probInterseccaoPicoDuracaoMais20 = probPico * probViagensMais20\n",
        "\n",
        "print('A probabilidade de uma corrida ocorrer durante o horário de pico E ter uma duração superior a 20 minutos é: ' + str(round((probInterseccaoPicoDuracaoMais20 * 100), 4)) + '%')"
      ]
    },
    {
      "cell_type": "markdown",
      "source": [
        "A probabilidade de uma corrida ocorrer durante o horário de pico de tráfego e, simultaneamente, ter uma duração superior a 20 minutos é fundamental tanto para a experiência do passageiro quanto para estudos de tráfego e planejamento urbano. Essa probabilidade reflete não apenas a eficiência do serviço de táxi e a satisfação do cliente durante os horários mais movimentados, mas também fornece insights valiosos sobre a presença de congestionamentos e desafios de mobilidade urbana.\n"
      ],
      "metadata": {
        "id": "pACAXOLNS60d"
      }
    },
    {
      "cell_type": "markdown",
      "metadata": {
        "id": "6ynrti7ah0m0"
      },
      "source": [
        "**Qual a probabilidade de uma viagem ter ocorrido durante a hora do almoço (12h-14h) E ter um pagamento em cartão de crédito?**"
      ]
    },
    {
      "cell_type": "code",
      "execution_count": 113,
      "metadata": {
        "id": "Eb8Cyk-eh0m0",
        "colab": {
          "base_uri": "https://localhost:8080/"
        },
        "outputId": "969df80f-034e-441d-a663-47473dc77b41"
      },
      "outputs": [
        {
          "output_type": "stream",
          "name": "stdout",
          "text": [
            "A probabilidade de uma viagem ter ocorrido durante a hora do almoço (12h-14h) E ter um pagamento em cartão de crédito é: 4.5416%\n"
          ]
        }
      ],
      "source": [
        "probInterseccaoAlmocoCartao = probAlmoco * probPagamentoCartao\n",
        "\n",
        "print('A probabilidade de uma viagem ter ocorrido durante a hora do almoço (12h-14h) E ter um pagamento em cartão de crédito é: ' + str(round((probInterseccaoAlmocoCartao * 100), 4)) + '%')"
      ]
    },
    {
      "cell_type": "markdown",
      "source": [
        "A probabilidade de uma viagem ocorrer durante a hora do almoço (12h-14h) e, ao mesmo tempo, ser paga com cartão de crédito é relevante tanto para o planejamento das operações de táxi quanto para análises financeiras. Essa probabilidade permite avaliar a demanda específica por pagamentos eletrônicos durante o horário de almoço, o que pode influenciar a necessidade de disponibilidade de veículos equipados para pagamentos com cartão e a eficiência das transações. Além disso, essa informação é valiosa para instituições financeiras que desejam compreender as tendências de uso de cartão de crédito em diferentes momentos do dia, contribuindo para estratégias de marketing e desenvolvimento de serviços financeiros direcionados."
      ],
      "metadata": {
        "id": "3LACij0EUBlF"
      }
    },
    {
      "cell_type": "markdown",
      "metadata": {
        "id": "1-fFEtIhh0m1"
      },
      "source": [
        "**Qual a probabilidade de uma viagem ter um pagamento de gorjeta (Tip_amount) superior a $5 E ter uma duração superior a 20 minutos?**"
      ]
    },
    {
      "cell_type": "code",
      "execution_count": 114,
      "metadata": {
        "id": "6TbADQd3h0m1",
        "colab": {
          "base_uri": "https://localhost:8080/"
        },
        "outputId": "5ab1ff89-96d6-4afb-d49e-5af44381e86f"
      },
      "outputs": [
        {
          "output_type": "stream",
          "name": "stdout",
          "text": [
            "A probabilidade de uma viagem ter um pagamento de gorjeta (Tip_amount) superior a $5 E ter uma duração superior a 20 minutos é: 0.2852%\n"
          ]
        }
      ],
      "source": [
        "probInterseccaoGorjeta5Duracao20 = probGorjetaMaior5 * probViagensMais20\n",
        "\n",
        "print('A probabilidade de uma viagem ter um pagamento de gorjeta (Tip_amount) superior a $5 E ter uma duração superior a 20 minutos é: ' + str(round((probInterseccaoGorjeta5Duracao20 * 100), 4)) + '%')"
      ]
    },
    {
      "cell_type": "markdown",
      "source": [
        "A probabilidade de uma viagem ter um pagamento de gorjeta (Tip_amount) superior a $5 e, simultaneamente, ter uma duração superior a 20 minutos é relevante tanto para a experiência dos passageiros quanto para a eficiência do serviço de táxi. Essa probabilidade reflete o potencial de passageiros oferecerem gorjetas mais generosas em viagens mais longas, o que pode afetar a motivação dos motoristas e a satisfação dos passageiros."
      ],
      "metadata": {
        "id": "9OXSRJrjUKDe"
      }
    },
    {
      "cell_type": "markdown",
      "source": [
        "**Qual a probabilidade de uma viagem ter ocorrido durante um dia útil E ter um pagamento em dinheiro?**"
      ],
      "metadata": {
        "id": "cCKrbmxbnDcY"
      }
    },
    {
      "cell_type": "code",
      "source": [
        "probInterseccaoUtilDinheiro = probViagensDiaUtil * probPagamentoDinheiro\n",
        "\n",
        "print('A probabilidade de uma viagem ter ocorrido durante um dia útil E ter feito um pagamento em dinheiro é: ' + str(round((probInterseccaoUtilDinheiro * 100), 4)) + '%')"
      ],
      "metadata": {
        "colab": {
          "base_uri": "https://localhost:8080/"
        },
        "id": "siRBR2zrnMcg",
        "outputId": "224732a0-d980-42ce-c289-cdb314db7c02"
      },
      "execution_count": 115,
      "outputs": [
        {
          "output_type": "stream",
          "name": "stdout",
          "text": [
            "A probabilidade de uma viagem ter ocorrido durante um dia útil E ter feito um pagamento em dinheiro é: 43.2236%\n"
          ]
        }
      ]
    },
    {
      "cell_type": "markdown",
      "source": [
        "A probabilidade de uma viagem ter ocorrido durante um dia útil e, ao mesmo tempo, ter um pagamento em dinheiro é relevante para entender os padrões de pagamento durante os dias da semana. Isso pode influenciar o planejamento de recursos e a disponibilidade de dinheiro nos táxis. Além disso, essa probabilidade é importante para análises financeiras, pois ajuda a determinar a frequência de pagamentos em dinheiro em comparação com outros métodos de pagamento eletrônico, como cartões de crédito, durante os dias úteis, o que pode afetar estratégias de aceitação de pagamento e serviços financeiros relacionados"
      ],
      "metadata": {
        "id": "3uMDxgrmUZO1"
      }
    },
    {
      "cell_type": "markdown",
      "source": [
        "**Qual a probabilidade de uma corrida ter tido duração inferior a 10 minutos E ter um pagamento de gorjeta (Tip_amount) superior a $1?**"
      ],
      "metadata": {
        "id": "2-DkB5Uyol4H"
      }
    },
    {
      "cell_type": "code",
      "source": [
        "viagensGorjetaMaior1 = len(trip_data_january[trip_data_january['tip_amount'] > 1])\n",
        "\n",
        "probGorjetaMaior1 = viagensGorjetaMaior1 / len(trip_data_january)\n",
        "\n",
        "probInterseccaoDuracao10Gorjeta1 = probDuracao10min * probGorjetaMaior1\n",
        "\n",
        "print('A probabilidade de uma corrida ter tido duração inferior a 10 minutos E ter uma gorjeta superior a $1 é: ' + str(round((probInterseccaoDuracao10Gorjeta1 * 100), 4)) + '%')"
      ],
      "metadata": {
        "colab": {
          "base_uri": "https://localhost:8080/"
        },
        "id": "a2BO_ZVhosIH",
        "outputId": "4bccdd7b-d285-48a7-a769-8718f8a04b0e"
      },
      "execution_count": 116,
      "outputs": [
        {
          "output_type": "stream",
          "name": "stdout",
          "text": [
            "A probabilidade de uma corrida ter tido duração inferior a 10 minutos E ter uma gorjeta superior a $1 é: 17.2838%\n"
          ]
        }
      ]
    },
    {
      "cell_type": "markdown",
      "source": [
        "A probabilidade de uma corrida ter tido duração inferior a 10 minutos e, ao mesmo tempo, ter um pagamento de gorjeta (Tip_amount) superior a $1 é importante para entender o comportamento dos passageiros em viagens curtas."
      ],
      "metadata": {
        "id": "mm1m-qeiUmUQ"
      }
    },
    {
      "cell_type": "markdown",
      "source": [
        "**Qual a probabilidade de uma viagem ter ocorrido durante a hora do almoço (12h-14h) E ter um pagamento em dinheiro?**"
      ],
      "metadata": {
        "id": "GMlSR8qHn7Mz"
      }
    },
    {
      "cell_type": "code",
      "source": [
        "probInterseccaoAlmocoDinheiro = probAlmoco * probPagamentoDinheiro\n",
        "\n",
        "print('A probabilidade de uma viagem ter ocorrido durante a hora do almoço (12h-14h) E ter um pagamento em dinheiro é: ' + str(round((probInterseccaoAlmocoDinheiro * 100), 4)) + '%')"
      ],
      "metadata": {
        "colab": {
          "base_uri": "https://localhost:8080/"
        },
        "id": "bWstHyvGn-Yt",
        "outputId": "4667e88b-0520-4f87-8671-bb70def38112"
      },
      "execution_count": 117,
      "outputs": [
        {
          "output_type": "stream",
          "name": "stdout",
          "text": [
            "A probabilidade de uma viagem ter ocorrido durante a hora do almoço (12h-14h) E ter um pagamento em dinheiro é: 5.5402%\n"
          ]
        }
      ]
    },
    {
      "cell_type": "markdown",
      "source": [
        "Essa informação pode ser valiosa para motoristas e empresas de táxi que desejam ajustar suas estratégias de pagamento e oferecer opções de pagamento que atendam às preferências dos passageiros durante o almoço."
      ],
      "metadata": {
        "id": "RCh9BLiAUvmY"
      }
    },
    {
      "cell_type": "markdown",
      "metadata": {
        "id": "wEm2IcXBh0m3"
      },
      "source": [
        "# **Probabilidade com Complemento/Diferença**"
      ]
    },
    {
      "cell_type": "markdown",
      "metadata": {
        "id": "fW0MuLRfh0m3"
      },
      "source": [
        "**Qual a probabilidade de o RateCodeID ser diferente de 2 (não relacionado ao Aeroporto JFK)?**"
      ]
    },
    {
      "cell_type": "code",
      "execution_count": 118,
      "metadata": {
        "id": "5t8RDXH7h0m3",
        "outputId": "5b613ae8-6f96-4767-8a16-68a63d63d506",
        "colab": {
          "base_uri": "https://localhost:8080/"
        }
      },
      "outputs": [
        {
          "output_type": "stream",
          "name": "stdout",
          "text": [
            "A probabilidade de o RateCodeID ser diferente de 2 (não relacionado ao Aeroporto JFK) é: 98.4445%\n"
          ]
        }
      ],
      "source": [
        "probNaoJfk  = 1 - probJfk\n",
        "\n",
        "print('A probabilidade de o RateCodeID ser diferente de 2 (não relacionado ao Aeroporto JFK) é: ' + str(round((probNaoJfk * 100), 4)) + '%')"
      ]
    },
    {
      "cell_type": "markdown",
      "metadata": {
        "id": "TFRBo6l4h0m3"
      },
      "source": [
        "Calcular a probabilidade do complemento (não ser relacionado ao Aeroporto JFK) pode ser útil para determinar a proporção de viagens que não estão diretamente relacionadas a aeroportos, o que pode ser relevante para planejamento de rotas e disponibilidade de táxis em diferentes áreas da cidade."
      ]
    },
    {
      "cell_type": "markdown",
      "metadata": {
        "id": "Vqf9jlfQh0m5"
      },
      "source": [
        "**Qual a probabilidade de ter sido uma corrida de menos de 2 milhas?**\n"
      ]
    },
    {
      "cell_type": "code",
      "execution_count": 119,
      "metadata": {
        "id": "wi1TplGph0m9",
        "colab": {
          "base_uri": "https://localhost:8080/"
        },
        "outputId": "5078dcc9-1f3a-418e-bffd-ae9d9bb24d87"
      },
      "outputs": [
        {
          "output_type": "stream",
          "name": "stdout",
          "text": [
            "A probabilidade de ter sido uma corrida de menos de 2 milhas é: 58.1212%\n"
          ]
        }
      ],
      "source": [
        "probMenos2Milhas = 1 - probCorrida2\n",
        "\n",
        "print('A probabilidade de ter sido uma corrida de menos de 2 milhas é: ' + str(round((probMenos2Milhas * 100), 4)) + '%')"
      ]
    },
    {
      "cell_type": "markdown",
      "source": [
        "Essa probabilidade é importante para entender a frequência de viagens curtas em comparação com viagens mais longas. Ela influencia a eficiência do serviço de táxi e a estimativa de custos para os passageiros, além de ter implicações no tráfego urbano e planejamento de recursos.\n"
      ],
      "metadata": {
        "id": "77V3iEYDU_VJ"
      }
    },
    {
      "cell_type": "markdown",
      "metadata": {
        "id": "2H_DQ31Fh0m_"
      },
      "source": [
        "**Qual a probabilidade de uma corrida não ter ocorrido durante a hora do almoco (12h-14h)?**"
      ]
    },
    {
      "cell_type": "code",
      "execution_count": 120,
      "metadata": {
        "id": "r5ukPMSHh0m_",
        "colab": {
          "base_uri": "https://localhost:8080/"
        },
        "outputId": "fd599253-3524-4886-a96f-f68700aa1552"
      },
      "outputs": [
        {
          "output_type": "stream",
          "name": "stdout",
          "text": [
            "A probabilidade de uma corrida não ter ocorrido durante o almoço é: 89.9153%\n"
          ]
        }
      ],
      "source": [
        "probNaoAlmoco = 1 - probAlmoco\n",
        "\n",
        "print('A probabilidade de uma corrida não ter ocorrido durante o almoço é: ' + str(round((probNaoAlmoco * 100), 4)) + '%')"
      ]
    },
    {
      "cell_type": "markdown",
      "source": [
        "A probabilidade de uma corrida não ter ocorrido durante a hora do almoço (12h-14h) é relevante para entender quando as viagens de táxi são menos comuns durante o dia. Isso pode influenciar a alocação de recursos, a disponibilidade de motoristas e as estratégias de atendimento ao cliente durante os horários não relacionados ao almoço. Além disso, essa informação é útil para passageiros que desejam planejar viagens fora do horário de almoço e para motoristas que desejam otimizar seu tempo de trabalho durante esses períodos de menor demanda."
      ],
      "metadata": {
        "id": "yUU08xapVMy1"
      }
    },
    {
      "cell_type": "markdown",
      "metadata": {
        "id": "Beb1CVoDh0m_"
      },
      "source": [
        "**Qual a probabilidade de uma corrida não ter ocorrido em um final de semana nem durante o horário de pico de tráfego (17h-19h)?**"
      ]
    },
    {
      "cell_type": "code",
      "execution_count": 121,
      "metadata": {
        "id": "IZjsrxnth0m_",
        "colab": {
          "base_uri": "https://localhost:8080/"
        },
        "outputId": "a5531d14-a696-4822-c518-9145923a532f"
      },
      "outputs": [
        {
          "output_type": "stream",
          "name": "stdout",
          "text": [
            "A probabilidade de uma corrida não ter ocorrido em um final de semana nem durante o horário de pico é: 67.542%\n"
          ]
        }
      ],
      "source": [
        "probNaoFdsNemPico = 1 - (probPico + probFds)\n",
        "\n",
        "print('A probabilidade de uma corrida não ter ocorrido em um final de semana nem durante o horário de pico é: ' + str(round((probNaoFdsNemPico * 100), 4)) + '%')"
      ]
    },
    {
      "cell_type": "markdown",
      "source": [
        "Essa probabilidade ajuda a identificar os momentos de menor demanda e congestionamento nas viagens de táxi, sendo relevante para motoristas e análises de tráfego urbano."
      ],
      "metadata": {
        "id": "3LiABlUVVWxz"
      }
    },
    {
      "cell_type": "markdown",
      "metadata": {
        "id": "ONq6BvWbh0nA"
      },
      "source": [
        "**Qual é a probabilidade de uma viagem não ser realizada pela Creative Mobile Technologies, LLC (VendorID = 1) nem o pagamento ser feito com cartão de crédito (Payment_type = 1)?**"
      ]
    },
    {
      "cell_type": "code",
      "execution_count": 122,
      "metadata": {
        "id": "jN8y30Zkh0nA",
        "colab": {
          "base_uri": "https://localhost:8080/"
        },
        "outputId": "a3bd5471-2c7b-4199-90c9-da8f6ea98e45"
      },
      "outputs": [
        {
          "output_type": "stream",
          "name": "stdout",
          "text": [
            "A probabilidade de uma viagem não ser realizada pela Creative Mobile Technologies, LLC (VendorID = 1) nem o pagamento ser feito com cartão de crédito (Payment_type = 1) é: 23.7945%\n"
          ]
        }
      ],
      "source": [
        "probNaoVendor1NemPagamentoCartao = 1 - probVendorCredito\n",
        "\n",
        "print('A probabilidade de uma viagem não ser realizada pela Creative Mobile Technologies, LLC (VendorID = 1) nem o pagamento ser feito com cartão de crédito (Payment_type = 1) é: ' + str(round((probNaoVendor1NemPagamentoCartao * 100), 4)) + '%')"
      ]
    },
    {
      "cell_type": "markdown",
      "source": [
        "Essa probabilidade é relevante para entender a participação de mercado de fornecedores alternativos de serviços de táxi e a preferência dos passageiros por métodos de pagamento não relacionados a cartão de crédito, como dinheiro. Pode ser útil para empresas de táxi que desejam avaliar a concorrência e ajustar suas estratégias de aceitação de pagamento."
      ],
      "metadata": {
        "id": "v03PCQx3Veqh"
      }
    },
    {
      "cell_type": "markdown",
      "metadata": {
        "id": "xslL3JK2h0nS"
      },
      "source": [
        "**Qual a probabilidade de uma corrida não ter tido duração inferior a 10 minutos nem ter um pagamento de gorjeta (Tip_amount) superior a $5?**"
      ]
    },
    {
      "cell_type": "code",
      "execution_count": 123,
      "metadata": {
        "id": "7thjKHRzh0nT",
        "colab": {
          "base_uri": "https://localhost:8080/"
        },
        "outputId": "2904297a-b52a-4f98-d6b9-cce98a9094b0"
      },
      "outputs": [
        {
          "output_type": "stream",
          "name": "stdout",
          "text": [
            "A probabilidade de uma corrida não ter tido duração inferior a 10 minutos nem ter um pagamento de gorjeta superior a $5 é: 49.4%\n"
          ]
        }
      ],
      "source": [
        "probNaoDuracao10NemGorjeta5 = 1 - (probDuracao10min - probGorjetaMaior5)\n",
        "\n",
        "print('A probabilidade de uma corrida não ter tido duração inferior a 10 minutos nem ter um pagamento de gorjeta superior a $5 é: ' + str(round((probNaoDuracao10NemGorjeta5 * 100), 4)) + '%')"
      ]
    },
    {
      "cell_type": "markdown",
      "source": [
        "Essa probabilidade é relevante para entender os padrões de duração de viagens e a generosidade dos passageiros em relação a gorjetas. Pode ser útil para motoristas de táxi que desejam otimizar a duração de suas viagens e para passageiros que desejam estimar seus gastos totais em corridas."
      ],
      "metadata": {
        "id": "Pjs1SLm0VoNO"
      }
    },
    {
      "cell_type": "markdown",
      "metadata": {
        "id": "e8F6s_dkh0nT"
      },
      "source": [
        "# **Probabilidade Condicional**"
      ]
    },
    {
      "cell_type": "markdown",
      "metadata": {
        "id": "K_-8U7Kch0nT"
      },
      "source": [
        "**Qual a probabilidade de o pagamento ser feito em dinheiro (Payment_type = 2), DADO que o RateCodeID é 2 (indicando que a viagem é para o Aeroporto JFK)?**"
      ]
    },
    {
      "cell_type": "code",
      "execution_count": 124,
      "metadata": {
        "id": "wmp2joaKh0nT",
        "outputId": "94d6e4c7-074f-4a5e-b0b1-b8a1c2f44372",
        "colab": {
          "base_uri": "https://localhost:8080/"
        }
      },
      "outputs": [
        {
          "output_type": "stream",
          "name": "stdout",
          "text": [
            "A probabilidade de o pagamento ser feito em dinheiro, DADO que o RateCodeID é 2 (Aeroporto JFK), é: 41.6941%\n"
          ]
        }
      ],
      "source": [
        "corridasJfk = trip_data_january[trip_data_january['RatecodeID'] == 2]\n",
        "\n",
        "corridasDinheiroJfk = corridasJfk[corridasJfk['payment_type'] == 2]\n",
        "\n",
        "probDinheiroDadoJfk = len(corridasDinheiroJfk) / len(corridasJfk)\n",
        "\n",
        "print('A probabilidade de o pagamento ser feito em dinheiro, DADO que o RateCodeID é 2 (Aeroporto JFK), é: ' + str(round((probDinheiroDadoJfk * 100), 4)) + '%')"
      ]
    },
    {
      "cell_type": "markdown",
      "metadata": {
        "id": "sZ35IK5hh0nU"
      },
      "source": [
        "Essa probabilidade condicional pode ser útil para entender o comportamento dos passageiros que escolhem pagar em dinheiro quando viajam para o Aeroporto JFK, o que pode influenciar as políticas de pagamento e as opções de moeda aceitas nos táxis que servem esse aeroporto."
      ]
    },
    {
      "cell_type": "markdown",
      "metadata": {
        "id": "8DKpO04fh0nV"
      },
      "source": [
        "**Qual a probabilidade de a viagem ter ocorrido em um dos aeroportos (RateCodeID = 2 ou RateCodeID = 3), DADO que a viagem foi realizada pela VeriFone Inc. (VendorID = 2)?**"
      ]
    },
    {
      "cell_type": "code",
      "execution_count": 125,
      "metadata": {
        "id": "eMs1IGaah0nV",
        "outputId": "e4278a0c-5f0b-4588-d1c8-b50153f2622e",
        "colab": {
          "base_uri": "https://localhost:8080/"
        }
      },
      "outputs": [
        {
          "output_type": "stream",
          "name": "stdout",
          "text": [
            "A probabilidade de a viagem ter ocorrido em um dos aeroportos, DADO que foi realizada pela VeriFone Inc., é: 1.7657%\n"
          ]
        }
      ],
      "source": [
        "viagensVerifone = trip_data_january[trip_data_january['VendorID'] == 2]\n",
        "\n",
        "viagensAeroportoVerifone = viagensVerifone[(viagensVerifone['RatecodeID'] == 2) | (viagensVerifone['RatecodeID'] == 3)]\n",
        "\n",
        "probAeroportoDadoVerifone = len(viagensAeroportoVerifone) / len(viagensVerifone)\n",
        "\n",
        "print('A probabilidade de a viagem ter ocorrido em um dos aeroportos, DADO que foi realizada pela VeriFone Inc., é: ' + str(round((probAeroportoDadoVerifone * 100), 4)) + '%')"
      ]
    },
    {
      "cell_type": "markdown",
      "metadata": {
        "id": "7dthrrJ4h0nW"
      },
      "source": [
        "Essa probabilidade condicional pode ser útil para avaliar se a VeriFone Inc. está mais envolvida em viagens para aeroportos, o que pode afetar estratégias de disponibilidade de táxis em aeroportos específicos."
      ]
    },
    {
      "cell_type": "markdown",
      "metadata": {
        "id": "WoJBwtwYh0nW"
      },
      "source": [
        "**Qual a probabilidade de uma corrida ter uma duração superior a 20 minutos, DADO que ocorreu durante o horário de pico de tráfego (17h-19h)??**\n",
        "\n",
        "\n",
        "\n"
      ]
    },
    {
      "cell_type": "code",
      "execution_count": 126,
      "metadata": {
        "id": "6tSCZgYch0nW",
        "colab": {
          "base_uri": "https://localhost:8080/"
        },
        "outputId": "5f443315-af49-4d95-d5d0-b9e56680a5c2"
      },
      "outputs": [
        {
          "output_type": "stream",
          "name": "stdout",
          "text": [
            "A probabilidade de uma corrida ter uma duração superior a 20 minutos, DADO que ocorreu durante o horário de pico de tráfego (17h-19h) é: 97.9011%\n"
          ]
        }
      ],
      "source": [
        "probPicoDadoViagem20 = probViagensMais20 / probPico\n",
        "\n",
        "print('A probabilidade de uma corrida ter uma duração superior a 20 minutos, DADO que ocorreu durante o horário de pico de tráfego (17h-19h) é: ' + str(round((probPicoDadoViagem20 * 100), 4)) + '%')"
      ]
    },
    {
      "cell_type": "markdown",
      "source": [
        "Essa probabilidade é relevante para entender a probabilidade de viagens mais longas durante os horários de tráfego mais intenso, o que pode afetar o planejamento de rotas dos motoristas, os tempos de espera dos passageiros e a eficiência dos serviços de táxi durante os horários de pico. Isso também pode ajudar na alocação de recursos e no ajuste de preços durante esses períodos de alta demanda."
      ],
      "metadata": {
        "id": "7GKtyRd3Vwnu"
      }
    },
    {
      "cell_type": "markdown",
      "metadata": {
        "id": "Olj5gYHmh0nW"
      },
      "source": [
        "**Qual a probabilidade de ser uma corrida de mais de 2 milhas, DADO que a viagem teve um pagamento em dinheiro?**"
      ]
    },
    {
      "cell_type": "code",
      "execution_count": 127,
      "metadata": {
        "id": "SvbLVuGQh0nX",
        "colab": {
          "base_uri": "https://localhost:8080/"
        },
        "outputId": "87cc54e6-bd0f-4e58-a572-e281729406ee"
      },
      "outputs": [
        {
          "output_type": "stream",
          "name": "stdout",
          "text": [
            "A probabilidade de ser uma corrida de mais de 2 milhas, DADO que a viagem teve pagamento em dinheiro é: 76.2311%\n"
          ]
        }
      ],
      "source": [
        "probMilhas2DadoPagamentoDinheiro = probCorrida2 / probPagamentoDinheiro\n",
        "\n",
        "print('A probabilidade de ser uma corrida de mais de 2 milhas, DADO que a viagem teve pagamento em dinheiro é: ' + str(round((probMilhas2DadoPagamentoDinheiro * 100), 4)) + '%')"
      ]
    },
    {
      "cell_type": "markdown",
      "source": [
        "Essa probabilidade é relevante para entender o comprimento típico de viagens pagas em dinheiro e pode influenciar estratégias de preços, alocação de motoristas e planejamento de rotas, dependendo da preferência dos passageiros por pagamentos em dinheiro em viagens mais longas."
      ],
      "metadata": {
        "id": "bhlnWfrOV5yd"
      }
    },
    {
      "cell_type": "markdown",
      "metadata": {
        "id": "7eTM-4fRh0nX"
      },
      "source": [
        "**Qual a probabilidade de uma corrida ter ocorrido durante um dia útil, DADO que foi uma corrida de mais de 2 milhas?**"
      ]
    },
    {
      "cell_type": "code",
      "execution_count": 128,
      "metadata": {
        "id": "obSlnvuYh0nX",
        "colab": {
          "base_uri": "https://localhost:8080/"
        },
        "outputId": "aa61bea1-0e72-429f-936a-1491251f93d8"
      },
      "outputs": [
        {
          "output_type": "stream",
          "name": "stdout",
          "text": [
            "A probabilidade de uma corrida ter ocorrido durante um dia útil, dado que foi uma corrida de mais de 2 milhas, é: 76.5757%\n"
          ]
        }
      ],
      "source": [
        "probCorrida2DiaUtil = len(trip_data_january[(trip_data_january['trip_distance'] > 2) & (trip_data_january['dia_util'])]) / len(trip_data_january)\n",
        "\n",
        "probDiaUtilDadoCorrida2 = probCorrida2DiaUtil / probCorrida2\n",
        "\n",
        "print('A probabilidade de uma corrida ter ocorrido durante um dia útil, dado que foi uma corrida de mais de 2 milhas, é: ' + str(round((probDiaUtilDadoCorrida2 * 100), 4)) + '%')"
      ]
    },
    {
      "cell_type": "markdown",
      "source": [
        "Essa probabilidade é relevante para entender a distribuição de corridas de maior distância durante os dias úteis, o que pode influenciar o planejamento de recursos e a programação de motoristas durante esses dias específicos da semana."
      ],
      "metadata": {
        "id": "lA2r7u7EWD5i"
      }
    },
    {
      "cell_type": "markdown",
      "metadata": {
        "id": "_-ABYRdCh0nY"
      },
      "source": [
        "# **Probabilidade com o Teorema de Bayes**"
      ]
    },
    {
      "cell_type": "markdown",
      "source": [
        "**Qual a probabilidade de uma corrida ter ocorrido durante o horário de pico de tráfego (17h-19h), dado que a viagem teve uma duração superior a 20 minutos?**"
      ],
      "metadata": {
        "id": "39UMaSHq1xGN"
      }
    },
    {
      "cell_type": "code",
      "source": [
        "probDuracao20DadoPico = len(trip_data_january[(trip_data_january['duracao_minutos'] > 20) & (trip_data_january['tpep_pickup_datetime'].dt.hour >= 17) & (trip_data_january['tpep_pickup_datetime'].dt.hour < 19)]) / len(trip_data_january)\n",
        "\n",
        "probPicoDadoViagens20 = (probDuracao20DadoPico * probPico) / probViagensMais20\n",
        "\n",
        "print('A probabilidade de uma corrida ter ocorrido durante o horário de pico de tráfego (17h-19h), dado que a viagem teve uma duração superior a 20 minutos, é: ' + str(round((probPicoDadoViagens20 * 100), 4)) + '%')"
      ],
      "metadata": {
        "colab": {
          "base_uri": "https://localhost:8080/"
        },
        "id": "FolH_t-M2KhX",
        "outputId": "cfe86ac3-43d5-42d7-ec8a-13a7e7159077"
      },
      "execution_count": 129,
      "outputs": [
        {
          "output_type": "stream",
          "name": "stdout",
          "text": [
            "A probabilidade de uma corrida ter ocorrido durante o horário de pico de tráfego (17h-19h), dado que a viagem teve uma duração superior a 20 minutos, é: 1.351%\n"
          ]
        }
      ]
    },
    {
      "cell_type": "markdown",
      "source": [
        "Com uma probabilidade de aprox 1 por cento, a chance de uma corrida ter ocorrido durante o horário de pico de tráfego (17h-19h), dado que a viagem teve uma duração superior a 20 minutos, é muito baixa. Isso indica que é raro que viagens mais longas ocorram durante os períodos de maior congestionamento de tráfego.\n",
        "\n",
        "Essa análise sugere que a maioria das viagens longas provavelmente ocorre em momentos diferentes do dia, quando o tráfego pode estar mais fluído. Isso pode ser útil para motoristas de táxi planejarem suas jornadas e para passageiros que desejam evitar congestionamentos em viagens mais longas. Além disso, essa informação pode influenciar estratégias de alocação de recursos por parte das empresas de táxi durante os horários de pico."
      ],
      "metadata": {
        "id": "BgOeOHLN80aa"
      }
    },
    {
      "cell_type": "markdown",
      "source": [
        "**Qual a probabilidade de ser uma corrida de menos de 2 milhas, dado que a viagem teve um pagamento em cartão de crédito?**"
      ],
      "metadata": {
        "id": "sAUUdWgj3PON"
      }
    },
    {
      "cell_type": "code",
      "source": [
        "probPagamentoCartaoDadoCorrida2 = len(trip_data_january[(trip_data_january['trip_distance'] < 2) & (trip_data_january['payment_type'] == 1)]) / len(trip_data_january)\n",
        "\n",
        "probCorrida2DadoCartao = (probPagamentoCartaoDadoCorrida2 * probCorrida2) / probPagamentoCartao\n",
        "\n",
        "print('A probabilidade de ser uma corrida de menos de 2 milhas, dado que a viagem teve um pagamento em cartão de crédito, é: ' + str(round((probCorrida2DadoCartao * 100), 4)) + '%')"
      ],
      "metadata": {
        "colab": {
          "base_uri": "https://localhost:8080/"
        },
        "id": "jfFucIjd3l2J",
        "outputId": "7430a271-2dee-43f8-fdd5-8c2278e59b14"
      },
      "execution_count": 130,
      "outputs": [
        {
          "output_type": "stream",
          "name": "stdout",
          "text": [
            "A probabilidade de ser uma corrida de menos de 2 milhas, dado que a viagem teve um pagamento em cartão de crédito, é: 21.2668%\n"
          ]
        }
      ]
    },
    {
      "cell_type": "markdown",
      "source": [
        "Com uma probabilidade de aprox 21 por cento, a chance de uma corrida ter sido de menos de 2 milhas, dado que a viagem teve um pagamento em cartão de crédito, é relativamente alta. Isso sugere que viagens curtas são frequentemente pagas com cartão de crédito.\n",
        "\n",
        "Essa análise é útil para entender o comportamento dos passageiros que optam pelo pagamento em cartão de crédito, indicando que eles podem preferir esse método em viagens curtas. Pode ser relevante para motoristas e empresas de táxi que desejam adaptar suas estratégias de aceitação de pagamento para atender às preferências dos passageiros e para passageiros que desejam escolher o método de pagamento mais conveniente para suas viagens."
      ],
      "metadata": {
        "id": "0-tp7gsc8te-"
      }
    },
    {
      "cell_type": "markdown",
      "source": [
        "**Qual a probabilidade de ter sido uma corrida durante a hora do almoço (12h-14h), dado que a viagem teve um pagamento em dinheiro?**"
      ],
      "metadata": {
        "id": "buVQomck4KwW"
      }
    },
    {
      "cell_type": "code",
      "source": [
        "probPagamentoDinheiroDadoAlmoco = len(trip_data_january[(trip_data_january['tpep_pickup_datetime'].dt.hour >= 12) & (trip_data_january['tpep_pickup_datetime'].dt.hour < 14) & (trip_data_january['payment_type'] == 2)]) / len(trip_data_january)\n",
        "\n",
        "probAlmocoDadoDinheiro = (probPagamentoDinheiroDadoAlmoco * probAlmoco) / probPagamentoDinheiro\n",
        "\n",
        "print('A probabilidade de ser uma corrida durante o horário do almoço (12h-14h), dado que a viagem teve um pagamento em dinheiro, é: ' + str(round((probAlmocoDadoDinheiro * 100), 4)) + '%')"
      ],
      "metadata": {
        "colab": {
          "base_uri": "https://localhost:8080/"
        },
        "id": "nctHVXKl4Wi-",
        "outputId": "bd67293f-c616-4203-e439-0e457ce65e18"
      },
      "execution_count": 131,
      "outputs": [
        {
          "output_type": "stream",
          "name": "stdout",
          "text": [
            "A probabilidade de ser uma corrida durante o horário do almoço (12h-14h), dado que a viagem teve um pagamento em dinheiro, é: 1.0925%\n"
          ]
        }
      ]
    },
    {
      "cell_type": "markdown",
      "source": [
        "Com uma probabilidade de aprox. 1 por cento, é extremamente baixa a chance de uma corrida ter ocorrido durante a hora do almoço (12h-14h), dado que a viagem teve um pagamento em dinheiro. Isso sugere que viagens durante o horário de almoço são raras quando os passageiros optam por pagar em dinheiro. Esse resultado pode indicar que a preferência dos passageiros durante o almoço tende a ser por outros métodos de pagamento eletrônico, como cartão de crédito, ou que durante esse período a demanda por viagens é naturalmente mais baixa em comparação com outros horários do dia.\n",
        "\n",
        "Essa análise fornece informações sobre os padrões de comportamento dos passageiros e a dinâmica das viagens durante o horário de almoço, o que pode ser valioso para empresas de táxi ao ajustar estratégias de atendimento e pagamento durante esse período."
      ],
      "metadata": {
        "id": "e9n3-8DO8iat"
      }
    },
    {
      "cell_type": "markdown",
      "source": [
        "**Qual a probabilidade de ter sido uma corrida de mais de 2 milhas, dado que a viagem ocorreu em um dia útil?**"
      ],
      "metadata": {
        "id": "DTlb-yTZ45UP"
      }
    },
    {
      "cell_type": "code",
      "source": [
        "probUtilDadoCorrida2 = len(trip_data_january[(trip_data_january['trip_distance'] > 2) & (trip_data_january['dia_util'])]) / len(trip_data_january)\n",
        "\n",
        "probCorrida2DadoUtil = (probUtilDadoCorrida2 * probCorrida2) / probViagensDiaUtil\n",
        "\n",
        "print('A probabilidade de ser uma corrida de mais de 2 milhas, dado que a viagem ocorreu em um dia útil, é: ' + str(round((probCorrida2DadoUtil * 100), 4)) + '%')"
      ],
      "metadata": {
        "colab": {
          "base_uri": "https://localhost:8080/"
        },
        "id": "BO12-Eg85U6X",
        "outputId": "b7dde504-3f8d-46d2-ffea-2c6a3617e0e5"
      },
      "execution_count": 132,
      "outputs": [
        {
          "output_type": "stream",
          "name": "stdout",
          "text": [
            "A probabilidade de ser uma corrida de mais de 2 milhas, dado que a viagem ocorreu em um dia útil, é: 17.0695%\n"
          ]
        }
      ]
    },
    {
      "cell_type": "markdown",
      "source": [
        "\n",
        "Com uma probabilidade de aprox 17 por cento, a chance de uma corrida ter sido de mais de 2 milhas, dado que a viagem ocorreu em um dia útil, é relativamente baixa. Isso sugere que viagens mais longas são menos comuns durante os dias úteis, em comparação com outros momentos.\n",
        "\n",
        "Essa análise é útil para entender a distribuição de corridas de maior distância em relação aos dias da semana e pode ser relevante para o planejamento de recursos e a alocação de motoristas. Isso também pode fornecer insights sobre como as viagens variam ao longo da semana, influenciando estratégias operacionais para otimizar a eficiência e a disponibilidade de táxis em diferentes momentos."
      ],
      "metadata": {
        "id": "QD_XD3NB8-HK"
      }
    },
    {
      "cell_type": "markdown",
      "source": [
        "**Qual a probabilidade de ser uma corrida de mais de 2 milhas, dado que a viagem teve mais de um passageiro?**"
      ],
      "metadata": {
        "id": "Mv4Dl1TL6T6u"
      }
    },
    {
      "cell_type": "code",
      "source": [
        "probPassageiro1Corrida2 = len(trip_data_january[(trip_data_january['trip_distance'] > 2) & (trip_data_january['passenger_count'] > 1)]) / len(trip_data_january)\n",
        "\n",
        "probCorrida2Passageiro1 = (probPassageiro1Corrida2 * probMais1Passageiro) / probCorrida2\n",
        "\n",
        "print('A probabilidade de ser uma corrida de mais de 2 milhas, dado que a viagem teve mais de um passageiro, é: ' + str(round((probCorrida2Passageiro1 * 100), 4)) + '%')"
      ],
      "metadata": {
        "colab": {
          "base_uri": "https://localhost:8080/"
        },
        "id": "eM13OvSS8xM9",
        "outputId": "8ed82254-f2da-403c-e6fb-527986423fd7"
      },
      "execution_count": 133,
      "outputs": [
        {
          "output_type": "stream",
          "name": "stdout",
          "text": [
            "A probabilidade de ser uma corrida de mais de 2 milhas, dado que a viagem teve mais de um passageiro, é: 8.6265%\n"
          ]
        }
      ]
    },
    {
      "cell_type": "markdown",
      "source": [
        "Com uma probabilidade de aproximadamente 8 por cento, a chance de uma corrida ter sido de mais de 2 milhas, dado que a viagem teve mais de um passageiro, é relativamente baixa. Isso sugere que viagens mais longas são menos comuns quando há mais de um passageiro no veículo.\n",
        "\n",
        "Essa análise é valiosa para compreender os padrões de viagens em relação à ocupação do veículo. Pode indicar que passageiros que compartilham corridas tendem a preferir viagens mais curtas ou que a dinâmica de viagens compartilhadas é diferente daquelas com apenas um passageiro. Essa informação pode influenciar estratégias de preços e a alocação de veículos para atender às necessidades dos passageiros."
      ],
      "metadata": {
        "id": "JkUoMHQ49Gdq"
      }
    },
    {
      "cell_type": "markdown",
      "metadata": {
        "id": "0mmdAXBUh0na"
      },
      "source": [
        "# **Definição de Novas Variáveis Aleatórias**"
      ]
    },
    {
      "cell_type": "code",
      "source": [
        "# Calcule a contagem de ocorrências dos valores únicos ordenando em ordem crescente, mostrando quantas vezes cada valor único aparece na coluna 'total_amount'.\n",
        "\n",
        "trip_data_january['total_amount'].value_counts(sort=False).sort_index()"
      ],
      "metadata": {
        "colab": {
          "base_uri": "https://localhost:8080/"
        },
        "id": "OcR0YMD-0TNY",
        "outputId": "4cc88876-aa6a-4833-8f0f-aca49c720a8d"
      },
      "execution_count": 134,
      "outputs": [
        {
          "output_type": "execute_result",
          "data": {
            "text/plain": [
              "2.50      50\n",
              "2.60       4\n",
              "2.70       1\n",
              "2.75       1\n",
              "2.90       2\n",
              "          ..\n",
              "440.00     2\n",
              "441.74     1\n",
              "450.00     2\n",
              "450.01     1\n",
              "500.00     1\n",
              "Name: total_amount, Length: 6403, dtype: int64"
            ]
          },
          "metadata": {},
          "execution_count": 134
        }
      ]
    },
    {
      "cell_type": "markdown",
      "source": [
        "O cálculo da contagem de ocorrências dos valores únicos na coluna 'total_amount' e a ordenação dessas contagens em ordem crescente são úteis para entender a distribuição dos preços totais de viagens no conjunto de dados. Isso fornece informações sobre a variação nos preços das viagens, bem como a frequência com que valores específicos ocorrem."
      ],
      "metadata": {
        "id": "3VFfjyvL2nXt"
      }
    },
    {
      "cell_type": "code",
      "source": [
        "# PassageirosPorViagem: Número médio de passageiros por viagem.\n",
        "\n",
        "PassageirosPorViagem = trip_data_january['passenger_count'].mean()\n",
        "print(\"Média de passageiros: \", str(round((PassageirosPorViagem), 2)), \"passageiros\")"
      ],
      "metadata": {
        "colab": {
          "base_uri": "https://localhost:8080/"
        },
        "id": "4c71dcKuH_0K",
        "outputId": "07ae7022-73df-4e47-d36d-e054a3f20316"
      },
      "execution_count": 135,
      "outputs": [
        {
          "output_type": "stream",
          "name": "stdout",
          "text": [
            "Média de passageiros:  1.61 passageiros\n"
          ]
        }
      ]
    },
    {
      "cell_type": "markdown",
      "source": [
        "O resultado desse calculo é útil para entender a eficiência operacional dos veículos. Uma alta média de passageiros por viagem pode indicar uma utilização eficiente dos recursos, enquanto uma baixa média pode sugerir subutilização ou falta de demanda.\n"
      ],
      "metadata": {
        "id": "eXGB66le4LiV"
      }
    },
    {
      "cell_type": "code",
      "source": [
        "# DistanciaMediaPorViagem: Distância média percorrida em cada viagem.\n",
        "\n",
        "DistanciaMediaPorViagem = trip_data_january['trip_distance'].mean()\n",
        "print(\"Distância média: \", str(round((DistanciaMediaPorViagem), 2)), \"milhas\")"
      ],
      "metadata": {
        "colab": {
          "base_uri": "https://localhost:8080/"
        },
        "id": "_Jx3JhR1IZJh",
        "outputId": "c03bcef5-b704-4b6b-c4e9-09dd2440a2e3"
      },
      "execution_count": 136,
      "outputs": [
        {
          "output_type": "stream",
          "name": "stdout",
          "text": [
            "Distância média:  2.78 milhas\n"
          ]
        }
      ]
    },
    {
      "cell_type": "markdown",
      "source": [
        "Os serviços de transporte, como táxis e aplicativos de carona, podem usar a distância média por viagem para estimar o tempo que levará para um veículo percorrer determinada distância. Isso é fundamental para fornecer estimativas precisas de tempo de chegada aos passageiros. As empresas de transporte podem usar a distância média por viagem para definir estratégias de preços. Por exemplo, podem cobrar com base na distância percorrida ou oferecer tarifas diferenciadas para viagens longas ou curtas. Compreender a distância média por viagem ajuda as empresas a otimizar suas operações. Isso pode envolver a alocação de veículos com base na demanda por distância ou a criação de promoções específicas para viagens mais longas."
      ],
      "metadata": {
        "id": "0NQX4Wxi4tTD"
      }
    },
    {
      "cell_type": "code",
      "source": [
        "# RatecodeIDMaisFrequente: O código de taxa mais frequente.\n",
        "\n",
        "RatecodeIDMaisFrequente = trip_data_january['RatecodeID'].value_counts().idxmax()\n",
        "print(\"RateCode mais frequente: \", str(round((RatecodeIDMaisFrequente), 2)))"
      ],
      "metadata": {
        "colab": {
          "base_uri": "https://localhost:8080/"
        },
        "id": "EH0gkeXoJJD1",
        "outputId": "3c380054-3f97-417e-be5b-297e6c2c9afe"
      },
      "execution_count": 137,
      "outputs": [
        {
          "output_type": "stream",
          "name": "stdout",
          "text": [
            "RateCode mais frequente:  1\n"
          ]
        }
      ]
    },
    {
      "cell_type": "markdown",
      "source": [
        "Ao determinar qual código de tarifa é mais frequente, podemos identificar padrões de uso. Isso pode revelar informações sobre as preferências dos passageiros, destinos mais comuns, ou até mesmo eventos sazonais que afetam as tarifas. Saber qual é o código de tarifa mais frequente permite que as empresas de transporte ajustem seus serviços e recursos de acordo com a demanda predominante. Por exemplo, se o código de tarifa 2 (JFK) for o mais frequente, a empresa pode direcionar mais veículos para essa área. A análise do código de tarifa mais frequente pode influenciar as estratégias de precificação e negócios. Se um código de tarifa específico for mais popular, a empresa pode oferecer promoções ou descontos direcionados a essa categoria para atrair mais passageiros. Diferentes códigos de tarifa podem ter diferentes níveis de rentabilidade para a empresa. Identificar o mais frequente permite que a empresa avalie a rentabilidade média das viagens sob esse código."
      ],
      "metadata": {
        "id": "SBWsw6Mm5Dv5"
      }
    },
    {
      "cell_type": "code",
      "source": [
        "# ViagensComGorjeta: Número total de viagens com gorjeta.\n",
        "\n",
        "ViagensComGorjeta = trip_data_january['tip_amount'].apply(lambda x: 1 if x > 0 else 0).sum()\n",
        "print(\"Total de viagens com gorjeta: \", str(round((ViagensComGorjeta), 2)), \"viagens\")"
      ],
      "metadata": {
        "colab": {
          "base_uri": "https://localhost:8080/"
        },
        "id": "-kv5SgrhJsGB",
        "outputId": "6aeb6ecd-acfe-48a7-b05c-b816ad1f62d8"
      },
      "execution_count": 138,
      "outputs": [
        {
          "output_type": "stream",
          "name": "stdout",
          "text": [
            "Total de viagens com gorjeta:  2186708 viagens\n"
          ]
        }
      ]
    },
    {
      "cell_type": "markdown",
      "source": [
        "O número de viagens com gorjetas pode ser um indicador da satisfação dos passageiros com os serviços de transporte. Viagens que recebem gorjetas geralmente refletem uma experiência positiva por parte dos passageiros.\n",
        "As gorjetas podem representar uma fonte adicional de renda para os motoristas. Entender quantas viagens resultam em gorjetas pode ajudar os motoristas a estimar sua renda total. Empresas de transporte podem usar essa métrica para implementar estratégias de incentivo, como campanhas para encorajar os passageiros a dar gorjetas ou recompensar motoristas por receberem mais gorjetas."
      ],
      "metadata": {
        "id": "WzkWSpUv5ukz"
      }
    },
    {
      "cell_type": "code",
      "source": [
        "# ViagensComTaxaExtra: Número total de viagens com taxa extra.\n",
        "\n",
        "ViagensComTaxaExtra = trip_data_january['extra'].apply(lambda x: 1 if x > 0 else 0).sum()\n",
        "print(\"Total de viagens com taxa extra: \", str(round((ViagensComTaxaExtra), 2)), \"viagens\")"
      ],
      "metadata": {
        "colab": {
          "base_uri": "https://localhost:8080/"
        },
        "id": "egrWbzUlJ_rP",
        "outputId": "d94cd99f-deb4-4c75-d6b6-8a3bc66a57d5"
      },
      "execution_count": 139,
      "outputs": [
        {
          "output_type": "stream",
          "name": "stdout",
          "text": [
            "Total de viagens com taxa extra:  2373510 viagens\n"
          ]
        }
      ]
    },
    {
      "cell_type": "markdown",
      "source": [
        "Mostra quantas viagens tiveram um custo adicional devido à taxa extra. Isso pode ser relevante para passageiros que desejam entender melhor os custos associados às viagens. A taxa extra representa uma fonte adicional de receita para motoristas ou empresas de transporte. Compreender quantas viagens incluem essa taxa pode ajudar a calcular a renda total gerada por essas tarifas.Empresas de transporte podem usar essa métrica para avaliar a eficiência das estratégias de preços e entender em quais circunstâncias os passageiros estão dispostos a pagar uma taxa extra."
      ],
      "metadata": {
        "id": "H5XxbCct56cS"
      }
    },
    {
      "cell_type": "code",
      "source": [
        "# PagamentoPorDiasDaSemana: Soma dos pagamentos agrupados por dia da semana.\n",
        "\n",
        "PagamentoPorDiasDaSemana = trip_data_january.groupby(trip_data_january['tpep_pickup_datetime'].dt.dayofweek)['total_amount'].sum()\n",
        "print(PagamentoPorDiasDaSemana)"
      ],
      "metadata": {
        "colab": {
          "base_uri": "https://localhost:8080/"
        },
        "id": "OAeST6-uKPce",
        "outputId": "fc8dd768-e239-42f6-f463-7b429081b223"
      },
      "execution_count": 140,
      "outputs": [
        {
          "output_type": "stream",
          "name": "stdout",
          "text": [
            "tpep_pickup_datetime\n",
            "0     8273297.96\n",
            "1     9396461.31\n",
            "2     9900348.94\n",
            "3    10343472.94\n",
            "4     8519976.13\n",
            "5     5224538.33\n",
            "6     7296091.55\n",
            "Name: total_amount, dtype: float64\n"
          ]
        }
      ]
    },
    {
      "cell_type": "markdown",
      "source": [
        "Permite entender como a demanda por viagens varia ao longo da semana. Pode revelar padrões, como dias de pico de demanda e dias mais tranquilos.Ajuda a determinar em quais dias da semana a receita proveniente das viagens é mais significativa, o que pode ser útil para o planejamento financeiro e estratégias de preços.Pode revelar se os passageiros têm comportamentos específicos em determinados dias da semana, como usar mais viagens de táxi durante os fins de semana."
      ],
      "metadata": {
        "id": "-lqeqy1v6C-r"
      }
    },
    {
      "cell_type": "code",
      "source": [
        "# PagamentoPorHoraDoDia: Soma dos pagamentos agrupados por hora do dia.\n",
        "\n",
        "PagamentoPorHoraDoDia = trip_data_january.groupby(trip_data_january['tpep_pickup_datetime'].dt.hour)['total_amount'].sum()\n",
        "print(PagamentoPorHoraDoDia)"
      ],
      "metadata": {
        "colab": {
          "base_uri": "https://localhost:8080/"
        },
        "id": "t42se2MBKsMK",
        "outputId": "c77ddcdd-01d5-4ad7-dc79-21c4fde034b9"
      },
      "execution_count": 141,
      "outputs": [
        {
          "output_type": "stream",
          "name": "stdout",
          "text": [
            "tpep_pickup_datetime\n",
            "0     2266531.74\n",
            "1     1678753.98\n",
            "2     1246009.20\n",
            "3      950389.65\n",
            "4      792432.24\n",
            "5      781478.49\n",
            "6     1393373.49\n",
            "7     2290346.78\n",
            "8     2873420.01\n",
            "9     2794958.41\n",
            "10    2514572.58\n",
            "11    2571422.48\n",
            "12    2737068.06\n",
            "13    2819107.72\n",
            "14    3132512.86\n",
            "15    3091123.81\n",
            "16    2759655.92\n",
            "17    3041849.72\n",
            "18    3551488.23\n",
            "19    3535959.46\n",
            "20    3269690.11\n",
            "21    3151498.26\n",
            "22    3075060.35\n",
            "23    2635483.61\n",
            "Name: total_amount, dtype: float64\n"
          ]
        }
      ]
    },
    {
      "cell_type": "markdown",
      "source": [
        "Permite entender como a demanda por viagens varia ao longo do dia. Pode revelar os horários de pico de demanda e os horários de menor demanda. Ajuda a determinar em quais horas do dia a receita proveniente das viagens é mais significativa, o que pode ser útil para o planejamento de turnos de motoristas ou estratégias de preços diferenciados. Pode indicar se os passageiros têm preferências específicas por horários ao longo do dia, como usar mais viagens de táxi durante a noite ou durante as horas de pico de tráfego."
      ],
      "metadata": {
        "id": "G55E63e46VAq"
      }
    },
    {
      "cell_type": "code",
      "source": [
        "# ViagensNoAeroporto: Número total de viagens que começam ou terminam em um aeroporto.\n",
        "\n",
        "Aeroportos = [2, 3]  # Códigos de localização de aeroportos\n",
        "ViagensNoAeroporto = trip_data_january[(trip_data_january['PULocationID'].isin(Aeroportos)) | (trip_data_january['DOLocationID'].isin(Aeroportos))].shape[0]\n",
        "print(\"Número total de viagens que começam ou terminam em um aeroporto: \", ViagensNoAeroporto, \"viagens\")"
      ],
      "metadata": {
        "colab": {
          "base_uri": "https://localhost:8080/"
        },
        "id": "H2dNzrJ4K-eG",
        "outputId": "5a23d06a-69b7-48f3-9a03-81a98c307da3"
      },
      "execution_count": 142,
      "outputs": [
        {
          "output_type": "stream",
          "name": "stdout",
          "text": [
            "Número total de viagens que começam ou terminam em um aeroporto:  351 viagens\n"
          ]
        }
      ]
    },
    {
      "cell_type": "markdown",
      "source": [
        "Pode ser relevante para empresas de transporte ou serviços de táxi entender quantas viagens estão diretamente relacionadas a aeroportos. Isso pode indicar a necessidade de disponibilizar mais veículos nesses locais em horários de grande movimentação. Ajuda a quantificar a demanda de passageiros que chegam ou partem de aeroportos, o que pode ser útil para planejamento logístico e operacional. As viagens relacionadas a aeroportos muitas vezes são mais longas e podem gerar uma receita significativa. O conhecimento do número de viagens nesses locais pode auxiliar no cálculo do potencial de lucro."
      ],
      "metadata": {
        "id": "aUzDf3MI7Y7L"
      }
    },
    {
      "cell_type": "code",
      "source": [
        "# PagamentoPorDistancia: Soma dos pagamentos agrupados por faixas de distância.\n",
        "\n",
        "Distancia = [0, 2, 5, 10, float('inf')]\n",
        "Labels = ['<2 milhas', '2-5 milhas', '5-10 milhas', '>10 milhas']\n",
        "\n",
        "trip_data_january['Distancia'] = pd.cut(trip_data_january['trip_distance'], bins=Distancia, labels=Labels)\n",
        "PagamentoPorDistancia = trip_data_january.groupby('Distancia')['total_amount'].sum()\n",
        "\n",
        "print(PagamentoPorDistancia)"
      ],
      "metadata": {
        "colab": {
          "base_uri": "https://localhost:8080/"
        },
        "id": "brcXCz5PLV9K",
        "outputId": "b67b5936-9eb5-4bc3-869b-e475f8d7ec59"
      },
      "execution_count": 143,
      "outputs": [
        {
          "output_type": "stream",
          "name": "stdout",
          "text": [
            "Distancia\n",
            "<2 milhas      21380894.01\n",
            "2-5 milhas     18609213.75\n",
            "5-10 milhas     9186832.51\n",
            ">10 milhas      9051604.57\n",
            "Name: total_amount, dtype: float64\n"
          ]
        }
      ]
    },
    {
      "cell_type": "markdown",
      "source": [
        "O valor resultante na análise fornece informações importantes sobre como os pagamentos estão distribuídos em relação à distância percorrida. Ele ajuda a entender qual faixa de distância gera mais receita, o que pode ser útil para estratégias de preços e alocação de recursos. Por exemplo, se a faixa \">10 milhas\" representa uma parte significativa da receita, uma empresa de transporte pode considerar oferecer incentivos para viagens de longa distância."
      ],
      "metadata": {
        "id": "qdcjuSlh7pFS"
      }
    },
    {
      "cell_type": "code",
      "source": [
        "# PagamentoPorRatecode: Soma dos pagamentos agrupados por código de taxa.\n",
        "\n",
        "PagamentoPorRatecode = trip_data_january.groupby('RatecodeID')['total_amount'].sum()\n",
        "print(PagamentoPorRatecode)"
      ],
      "metadata": {
        "colab": {
          "base_uri": "https://localhost:8080/"
        },
        "id": "hLlk8SqJLw3K",
        "outputId": "fd396cbd-8f36-43de-c957-bc8e3ef04c65"
      },
      "execution_count": 144,
      "outputs": [
        {
          "output_type": "stream",
          "name": "stdout",
          "text": [
            "RatecodeID\n",
            "1     53502757.69\n",
            "2      4181890.98\n",
            "3       368728.63\n",
            "4       196650.01\n",
            "5       700003.58\n",
            "6          575.43\n",
            "99        3580.84\n",
            "Name: total_amount, dtype: float64\n"
          ]
        }
      ]
    },
    {
      "cell_type": "markdown",
      "source": [
        "O sentido do valor na análise é determinar qual código de taxa é mais frequente e/ou gera mais receita. Isso pode ser útil para tomada de decisões estratégicas, como ajuste de preços, promoções ou alocação de recursos para atender a determinados tipos de tarifas com mais eficiência."
      ],
      "metadata": {
        "id": "5CkK2pL-78Ge"
      }
    },
    {
      "cell_type": "code",
      "source": [
        "# PagamentoPorDiaEPeriodo: Soma dos pagamentos agrupados por dia da semana e período do dia (manhã, tarde, noite).\n",
        "\n",
        "trip_data_january['PeriodoDoDia'] = pd.cut(trip_data_january['tpep_pickup_datetime'].dt.hour, bins=[0, 6, 12, 18, 24], labels=['Madrugada', 'Manhã', 'Tarde', 'Noite'])\n",
        "\n",
        "PagamentoPorDiaEPeriodo = trip_data_january.groupby([trip_data_january['tpep_pickup_datetime'].dt.dayofweek, 'PeriodoDoDia'])['total_amount'].sum()\n",
        "print(PagamentoPorDiaEPeriodo)"
      ],
      "metadata": {
        "colab": {
          "base_uri": "https://localhost:8080/"
        },
        "id": "koMyDlEwL-IA",
        "outputId": "d222608f-0637-4179-e2e6-e9f53e731889"
      },
      "execution_count": 145,
      "outputs": [
        {
          "output_type": "stream",
          "name": "stdout",
          "text": [
            "tpep_pickup_datetime  PeriodoDoDia\n",
            "0                     Madrugada        791440.32\n",
            "                      Manhã           2170371.16\n",
            "                      Tarde           2866351.75\n",
            "                      Noite           2194863.29\n",
            "1                     Madrugada        727076.04\n",
            "                      Manhã           2741251.28\n",
            "                      Tarde           3062332.95\n",
            "                      Noite           2628130.53\n",
            "2                     Madrugada        751311.38\n",
            "                      Manhã           2847419.13\n",
            "                      Tarde           3114312.71\n",
            "                      Noite           2926167.31\n",
            "3                     Madrugada        802109.93\n",
            "                      Manhã           2909399.07\n",
            "                      Tarde           3164819.85\n",
            "                      Noite           3164073.52\n",
            "4                     Madrugada       1031887.99\n",
            "                      Manhã           2924902.93\n",
            "                      Tarde           2529348.18\n",
            "                      Noite           1649999.28\n",
            "5                     Madrugada        932276.21\n",
            "                      Manhã            915588.66\n",
            "                      Tarde           1467260.58\n",
            "                      Noite           1591672.48\n",
            "6                     Madrugada       1806335.18\n",
            "                      Manhã           1272856.09\n",
            "                      Tarde           2191312.24\n",
            "                      Noite           1512785.38\n",
            "Name: total_amount, dtype: float64\n"
          ]
        }
      ]
    },
    {
      "cell_type": "markdown",
      "source": [
        "O sentido do valor na análise é entender como os pagamentos são distribuídos em diferentes momentos da semana e do dia. Por exemplo, pode revelar se há diferenças significativas nos pagamentos durante os fins de semana em comparação com os dias úteis ou se certos períodos do dia são mais lucrativos para a empresa de transporte. Essas informações podem ser usadas para tomar decisões estratégicas, como alocação de recursos e planejamento de horários de pico."
      ],
      "metadata": {
        "id": "hNQLPycv8Ihg"
      }
    },
    {
      "cell_type": "markdown",
      "metadata": {
        "id": "Wr1ASJi_h0na"
      },
      "source": [
        "# **Função Probabilidade**"
      ]
    },
    {
      "cell_type": "code",
      "source": [
        "prob1 = PagamentoPorDiaEPeriodo / PagamentoPorDiaEPeriodo.count()\n",
        "print(prob1)"
      ],
      "metadata": {
        "colab": {
          "base_uri": "https://localhost:8080/"
        },
        "id": "1tGg3Vct_ssx",
        "outputId": "ee0feaf5-4a95-4733-bad3-32e22d1577d3"
      },
      "execution_count": 146,
      "outputs": [
        {
          "output_type": "stream",
          "name": "stdout",
          "text": [
            "tpep_pickup_datetime  PeriodoDoDia\n",
            "0                     Madrugada        28265.725714\n",
            "                      Manhã            77513.255714\n",
            "                      Tarde           102369.705357\n",
            "                      Noite            78387.974643\n",
            "1                     Madrugada        25967.001429\n",
            "                      Manhã            97901.831429\n",
            "                      Tarde           109369.033929\n",
            "                      Noite            93861.804643\n",
            "2                     Madrugada        26832.549286\n",
            "                      Manhã           101693.540357\n",
            "                      Tarde           111225.453929\n",
            "                      Noite           104505.975357\n",
            "3                     Madrugada        28646.783214\n",
            "                      Manhã           103907.109643\n",
            "                      Tarde           113029.280357\n",
            "                      Noite           113002.625714\n",
            "4                     Madrugada        36853.142500\n",
            "                      Manhã           104460.818929\n",
            "                      Tarde            90333.863571\n",
            "                      Noite            58928.545714\n",
            "5                     Madrugada        33295.578929\n",
            "                      Manhã            32699.595000\n",
            "                      Tarde            52402.163571\n",
            "                      Noite            56845.445714\n",
            "6                     Madrugada        64511.970714\n",
            "                      Manhã            45459.146071\n",
            "                      Tarde            78261.151429\n",
            "                      Noite            54028.049286\n",
            "Name: total_amount, dtype: float64\n"
          ]
        }
      ]
    },
    {
      "cell_type": "markdown",
      "source": [
        "O calculo está obtendo a probabilidade de que um pagamento específico ocorra em um dia da semana e período do dia específicos em relação ao total de pagamentos, o que permite uma análise mais significativa e comparativa das probabilidades em diferentes categorias."
      ],
      "metadata": {
        "id": "xcdCrrWeA9MI"
      }
    },
    {
      "cell_type": "code",
      "source": [
        "prob2 = PagamentoPorDistancia / PagamentoPorDistancia.count()\n",
        "print(prob2)"
      ],
      "metadata": {
        "colab": {
          "base_uri": "https://localhost:8080/"
        },
        "id": "BXY90MXDBCYc",
        "outputId": "54838055-fd9a-4346-abc1-ad5fe06f51f3"
      },
      "execution_count": 147,
      "outputs": [
        {
          "output_type": "stream",
          "name": "stdout",
          "text": [
            "Distancia\n",
            "<2 milhas      5.345224e+06\n",
            "2-5 milhas     4.652303e+06\n",
            "5-10 milhas    2.296708e+06\n",
            ">10 milhas     2.262901e+06\n",
            "Name: total_amount, dtype: float64\n"
          ]
        }
      ]
    },
    {
      "cell_type": "markdown",
      "source": [
        "Calcular essa probabilidade relativa ajuda a entender como os pagamentos estão distribuídos em relação à distância percorrida, fornecendo informações valiosas sobre os padrões de pagamento em diferentes situações de viagem."
      ],
      "metadata": {
        "id": "FtoK-fc2CKj0"
      }
    },
    {
      "cell_type": "code",
      "source": [
        "prob3 = ViagensComGorjeta / trip_data_january['tip_amount'].count()\n",
        "print(prob3)"
      ],
      "metadata": {
        "colab": {
          "base_uri": "https://localhost:8080/"
        },
        "id": "yieHz_YJBlVS",
        "outputId": "79e2bdba-936b-495e-ecd6-38c0b0d4ae83"
      },
      "execution_count": 148,
      "outputs": [
        {
          "output_type": "stream",
          "name": "stdout",
          "text": [
            "0.4373416\n"
          ]
        }
      ]
    },
    {
      "cell_type": "markdown",
      "source": [
        "Calcular isso é entender a frequência relativa de gorjetas em viagens de táxi em janeiro. Isso pode ser útil para os motoristas de táxi, empresas de táxi e analistas para avaliar o comportamento dos passageiros em relação a gorjetas e, potencialmente, tomar decisões ou ajustar estratégias com base nessa informação."
      ],
      "metadata": {
        "id": "cClyfFk-Ca8r"
      }
    },
    {
      "cell_type": "code",
      "source": [
        "prob4 = ViagensComTaxaExtra / trip_data_january['extra'].count()\n",
        "print(prob4)"
      ],
      "metadata": {
        "colab": {
          "base_uri": "https://localhost:8080/"
        },
        "id": "4_AdMrP7B1MT",
        "outputId": "1f9bd1bb-9b30-41c5-8a71-5627f0a5e3bb"
      },
      "execution_count": 149,
      "outputs": [
        {
          "output_type": "stream",
          "name": "stdout",
          "text": [
            "0.474702\n"
          ]
        }
      ]
    },
    {
      "cell_type": "markdown",
      "source": [
        "Calcular isso é entender a frequência relativa de viagens que envolvem a aplicação de taxas extras em viagens de táxi em janeiro. Isso pode ser útil para motoristas de táxi e empresas de táxi para avaliar quão comum é a aplicação dessas taxas extras e, potencialmente, considerar ajustes em suas políticas de preços ou comunicação com os passageiros."
      ],
      "metadata": {
        "id": "YXBLR_anCfiK"
      }
    },
    {
      "cell_type": "markdown",
      "metadata": {
        "id": "y39poj1Fh0nb"
      },
      "source": [
        "# **Função Repartição (Cumulativa)**"
      ]
    },
    {
      "cell_type": "code",
      "source": [
        "prob1.cumsum()"
      ],
      "metadata": {
        "colab": {
          "base_uri": "https://localhost:8080/"
        },
        "id": "wfloZke-CjQC",
        "outputId": "b8261fbe-676c-4c7d-db2d-3f6f90d18d31"
      },
      "execution_count": 150,
      "outputs": [
        {
          "output_type": "execute_result",
          "data": {
            "text/plain": [
              "tpep_pickup_datetime  PeriodoDoDia\n",
              "0                     Madrugada       2.826573e+04\n",
              "                      Manhã           1.057790e+05\n",
              "                      Tarde           2.081487e+05\n",
              "                      Noite           2.865367e+05\n",
              "1                     Madrugada       3.125037e+05\n",
              "                      Manhã           4.104055e+05\n",
              "                      Tarde           5.197745e+05\n",
              "                      Noite           6.136363e+05\n",
              "2                     Madrugada       6.404689e+05\n",
              "                      Manhã           7.421624e+05\n",
              "                      Tarde           8.533879e+05\n",
              "                      Noite           9.578939e+05\n",
              "3                     Madrugada       9.865406e+05\n",
              "                      Manhã           1.090448e+06\n",
              "                      Tarde           1.203477e+06\n",
              "                      Noite           1.316480e+06\n",
              "4                     Madrugada       1.353333e+06\n",
              "                      Manhã           1.457794e+06\n",
              "                      Tarde           1.548127e+06\n",
              "                      Noite           1.607056e+06\n",
              "5                     Madrugada       1.640352e+06\n",
              "                      Manhã           1.673051e+06\n",
              "                      Tarde           1.725453e+06\n",
              "                      Noite           1.782299e+06\n",
              "6                     Madrugada       1.846811e+06\n",
              "                      Manhã           1.892270e+06\n",
              "                      Tarde           1.970531e+06\n",
              "                      Noite           2.024559e+06\n",
              "Name: total_amount, dtype: float64"
            ]
          },
          "metadata": {},
          "execution_count": 150
        }
      ]
    },
    {
      "cell_type": "code",
      "source": [
        "prob2.cumsum()"
      ],
      "metadata": {
        "colab": {
          "base_uri": "https://localhost:8080/"
        },
        "id": "UfGTZtmjCk12",
        "outputId": "f12dea66-20af-4ea1-bdb6-46cb5e249191"
      },
      "execution_count": 151,
      "outputs": [
        {
          "output_type": "execute_result",
          "data": {
            "text/plain": [
              "Distancia\n",
              "<2 milhas      5.345224e+06\n",
              "2-5 milhas     9.997527e+06\n",
              "5-10 milhas    1.229424e+07\n",
              ">10 milhas     1.455714e+07\n",
              "Name: total_amount, dtype: float64"
            ]
          },
          "metadata": {},
          "execution_count": 151
        }
      ]
    },
    {
      "cell_type": "code",
      "source": [
        "prob3.cumsum()"
      ],
      "metadata": {
        "colab": {
          "base_uri": "https://localhost:8080/"
        },
        "id": "-624N3VzCmQh",
        "outputId": "82cfe7d2-3d32-4fff-cc1f-deeecdac0b7f"
      },
      "execution_count": 152,
      "outputs": [
        {
          "output_type": "execute_result",
          "data": {
            "text/plain": [
              "array([0.4373416])"
            ]
          },
          "metadata": {},
          "execution_count": 152
        }
      ]
    },
    {
      "cell_type": "code",
      "source": [
        "prob4.cumsum()"
      ],
      "metadata": {
        "colab": {
          "base_uri": "https://localhost:8080/"
        },
        "id": "AhUWNt7GCn1z",
        "outputId": "d7714e37-6ed0-4244-f434-08a95c10d431"
      },
      "execution_count": 153,
      "outputs": [
        {
          "output_type": "execute_result",
          "data": {
            "text/plain": [
              "array([0.474702])"
            ]
          },
          "metadata": {},
          "execution_count": 153
        }
      ]
    },
    {
      "cell_type": "markdown",
      "source": [
        "# **Referências**"
      ],
      "metadata": {
        "id": "qLAns8g9GskI"
      }
    },
    {
      "cell_type": "markdown",
      "source": [
        "[Materia que explica como funciona a parte financeira dos taxis nova iorquinos, ajudando a entender o sistema de gorjetas e tarifas.](https://www.novayork.net/taxi)\n",
        "\n",
        "\n",
        "\n",
        "\n",
        "[Materia que explica sobre os taxis nova iorquinos de maneira geral, ensinando como navega-los e diferenciando os seus tipos.](https://www.visitenovayork.com.br/taxi-em-nova-york/)\n",
        "\n",
        "\n",
        "\n",
        "\n",
        "[Materia que fala sobre o aumento da taxa dos taxis nova iorquinos.](https://www.nytimes.com/2022/11/17/nyregion/taxi-fare-hike-nyc.html)\n",
        "\n",
        "\n",
        "\n",
        "[Materia que abrange todas as informações necessárias sobre os táxis nova iorquinos, incluindo horários.](https://novayorkevoce.com/blog/taxi-em-nova-york/)"
      ],
      "metadata": {
        "id": "wyvFnX8FGwok"
      }
    }
  ],
  "metadata": {
    "kernelspec": {
      "display_name": "Python 3.8.2 64-bit",
      "language": "python",
      "name": "python3"
    },
    "language_info": {
      "codemirror_mode": {
        "name": "ipython",
        "version": 3
      },
      "file_extension": ".py",
      "mimetype": "text/x-python",
      "name": "python",
      "nbconvert_exporter": "python",
      "pygments_lexer": "ipython3",
      "version": "3.10.7"
    },
    "orig_nbformat": 4,
    "vscode": {
      "interpreter": {
        "hash": "31f2aee4e71d21fbe5cf8b01ff0e069b9275f58929596ceb00d14d90e3e16cd6"
      }
    },
    "colab": {
      "provenance": [],
      "collapsed_sections": [
        "yBg3Mhx9h0mf",
        "dNavrCY7h0mu",
        "JN4toflCh0mx",
        "wEm2IcXBh0m3",
        "e8F6s_dkh0nT",
        "_-ABYRdCh0nY",
        "0mmdAXBUh0na",
        "Wr1ASJi_h0na",
        "y39poj1Fh0nb",
        "qLAns8g9GskI"
      ]
    }
  },
  "nbformat": 4,
  "nbformat_minor": 0
}